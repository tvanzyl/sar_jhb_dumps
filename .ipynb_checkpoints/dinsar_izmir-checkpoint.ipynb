{
 "cells": [
  {
   "cell_type": "code",
   "execution_count": 1,
   "metadata": {},
   "outputs": [
    {
     "name": "stdout",
     "output_type": "stream",
     "text": [
      "mkdir: cannot create directory ‘/data1/data/sar_izmir/’: File exists\n",
      "mkdir: cannot create directory ‘/data1/data/sar_izmir/dinsar/’: File exists\n"
     ]
    }
   ],
   "source": [
    "data_dir = \"/data1/data/sar_izmir/\"\n",
    "dinsar_dir = \"/data1/data/sar_izmir/dinsar/\"\n",
    "graph = \"TOPSAR_Coreg_Interferogram_VV_IW_1_2_B_1_2.xml\"\n",
    "!mkdir $data_dir\n",
    "!mkdir $dinsar_dir"
   ]
  },
  {
   "cell_type": "code",
   "execution_count": 2,
   "metadata": {},
   "outputs": [
    {
     "name": "stdout",
     "output_type": "stream",
     "text": [
      "14\n",
      "/data1/data/sar_izmir/S1B_IW_SLC__1SDV_20200801T160646_20200801T160713_022732_02B249_1945.zip /data1/data/sar_izmir/S1B_IW_SLC__1SDV_20200813T160647_20200813T160714_022907_02B7AC_0602.zip\n"
     ]
    }
   ],
   "source": [
    "a = !ls $data_dir*.zip\n",
    "print(len(a))\n",
    "a.sort()\n",
    "print(a[0], a[1])"
   ]
  },
  {
   "cell_type": "code",
   "execution_count": 3,
   "metadata": {},
   "outputs": [],
   "source": [
    "Rg = 8\n",
    "Az = 2"
   ]
  },
  {
   "cell_type": "code",
   "execution_count": null,
   "metadata": {
    "scrolled": true
   },
   "outputs": [
    {
     "name": "stdout",
     "output_type": "stream",
     "text": [
      "20200801 20200813\n",
      "[]\n",
      "20200801 20200825\n",
      "[]\n",
      "20200801 20200906\n",
      "[]\n",
      "20200801 20200918\n",
      "[]\n",
      "20200801 20200930\n",
      "[]\n",
      "INFO: org.esa.snap.core.gpf.operators.tooladapter.ToolAdapterIO: Initializing external tool adapters\n",
      "INFO: org.esa.s2tbx.dataio.gdal.GDALVersion: GDAL not found on system. Internal GDAL 3.0.0 from distribution will be used. (f1)\n",
      "INFO: org.esa.s2tbx.dataio.gdal.GDALVersion: Internal GDAL 3.0.0 set to be used by SNAP.\n",
      "INFO: org.esa.snap.core.util.EngineVersionCheckActivator: Please check regularly for new updates for the best SNAP experience.\n",
      "INFO: org.esa.s2tbx.dataio.gdal.GDALVersion: Internal GDAL 3.0.0 set to be used by SNAP.\n",
      "Executing processing graph\n",
      "INFO: org.hsqldb.persist.Logger: dataFileCache open start\n",
      "....11%....22%....33%....43%....54%....65%....75%....86%INFO: org.esa.snap.core.gpf.operators.tooladapter.ToolAdapterIO: Initializing external tool adapters\n",
      "INFO: org.esa.s2tbx.dataio.gdal.GDALVersion: GDAL not found on system. Internal GDAL 3.0.0 from distribution will be used. (f1)\n",
      "INFO: org.esa.s2tbx.dataio.gdal.GDALVersion: Internal GDAL 3.0.0 set to be used by SNAP.\n",
      "INFO: org.esa.snap.core.util.EngineVersionCheckActivator: Please check regularly for new updates for the best SNAP experience.\n",
      "INFO: org.esa.s2tbx.dataio.gdal.GDALVersion: Internal GDAL 3.0.0 set to be used by SNAP.\n",
      "Executing processing graph\n",
      "INFO: org.hsqldb.persist.Logger: dataFileCache open start\n",
      "....11%....22%....33%....43%....54%....65%....75%....86%INFO: org.esa.snap.core.gpf.operators.tooladapter.ToolAdapterIO: Initializing external tool adapters\n",
      "INFO: org.esa.s2tbx.dataio.gdal.GDALVersion: GDAL not found on system. Internal GDAL 3.0.0 from distribution will be used. (f1)\n",
      "INFO: org.esa.s2tbx.dataio.gdal.GDALVersion: Internal GDAL 3.0.0 set to be used by SNAP.\n",
      "INFO: org.esa.snap.core.util.EngineVersionCheckActivator: Please check regularly for new updates for the best SNAP experience.\n",
      "INFO: org.esa.s2tbx.dataio.gdal.GDALVersion: Internal GDAL 3.0.0 set to be used by SNAP.\n",
      "Executing processing graph\n",
      "INFO: org.esa.s1tbx.sentinel1.gpf.SpectralDiversityOp: Shifts written to file: /home/terencevz/.snap/var/log/IW1_range_shifts.json\n",
      "INFO: org.esa.s1tbx.sentinel1.gpf.SpectralDiversityOp: Shifts written to file: /home/terencevz/.snap/var/log/IW2_range_shifts.json\n",
      "INFO: org.esa.s1tbx.sentinel1.gpf.SpectralDiversityOp: Estimating azimuth offset for blocks in overlap: 1/1\n",
      "INFO: org.esa.s1tbx.sentinel1.gpf.SpectralDiversityOp: Estimating azimuth offset for blocks in overlap: 1/1\n",
      "INFO: org.hsqldb.persist.Logger: dataFileCache open start\n",
      "....11%....22%....33%....43%....54%....65%....75%....86%INFO: org.esa.s1tbx.sentinel1.gpf.SpectralDiversityOp: Shifts written to file: /home/terencevz/.snap/var/log/IW1_azimuth_shifts.json\n",
      "INFO: org.esa.s1tbx.sentinel1.gpf.SpectralDiversityOp: Shifts written to file: /home/terencevz/.snap/var/log/IW2_azimuth_shifts.json\n"
     ]
    }
   ],
   "source": [
    "count=0\n",
    "pjobs = 5\n",
    "!rm pexecute.sh\n",
    "!touch pexecute.sh\n",
    "for i in range(0,14):\n",
    "    for j in range(i+1, 14):\n",
    "        master = a[i]\n",
    "        slave = a[j]\n",
    "        print(master[39:47],slave[39:47])\n",
    "        target_name = \"{}_{}\".format(master[39:47],slave[39:47])\n",
    "        target = \"{}{}_{}.dim\".format(dinsar_dir,master[39:47],slave[39:47])\n",
    "        c = !ls $dinsar_dir | grep $target_name\n",
    "        print(c)        \n",
    "        if len(c) == 0:            \n",
    "            !echo \"gpt graph/$graph -Pmaster=$master -Pslave=$slave -Ptarget=$target -PRg=$Rg -PAz=$Az -c 64G -q 72 &\" >> pexecute.sh\n",
    "            !echo \"sleep 10s\" >> pexecute.sh\n",
    "            count += 1\n",
    "        if (count-1)%pjobs==(pjobs-1):\n",
    "            !echo \"wait\" >> pexecute.sh\n",
    "            !bash pexecute.sh\n",
    "            !rm pexecute.sh\n",
    "            !touch pexecute.sh\n",
    "#             print(graph, master, slave, target, Rg, Az)\n",
    "#            !gpt graph/$graph -Pmaster=$master -Pslave=$slave -Ptarget=$target -PRg=$Rg -PAz=$Az -c 64G -q 72"
   ]
  },
  {
   "cell_type": "code",
   "execution_count": null,
   "metadata": {
    "scrolled": true
   },
   "outputs": [],
   "source": [
    "4%5"
   ]
  },
  {
   "cell_type": "code",
   "execution_count": null,
   "metadata": {},
   "outputs": [],
   "source": []
  }
 ],
 "metadata": {
  "kernelspec": {
   "display_name": "Python 3",
   "language": "python",
   "name": "python3"
  },
  "language_info": {
   "codemirror_mode": {
    "name": "ipython",
    "version": 3
   },
   "file_extension": ".py",
   "mimetype": "text/x-python",
   "name": "python",
   "nbconvert_exporter": "python",
   "pygments_lexer": "ipython3",
   "version": "3.5.6"
  }
 },
 "nbformat": 4,
 "nbformat_minor": 4
}
