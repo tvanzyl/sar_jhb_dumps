{
 "cells": [
  {
   "cell_type": "code",
   "execution_count": 1,
   "id": "27973f84",
   "metadata": {},
   "outputs": [],
   "source": [
    "from scipy.stats import ttest_ind_from_stats"
   ]
  },
  {
   "cell_type": "code",
   "execution_count": 2,
   "id": "1b621c33",
   "metadata": {},
   "outputs": [],
   "source": [
    "# ttest_ind_from_stats(24.6, 4, 10, 21.7, 2, 10, alternative='greater')"
   ]
  },
  {
   "cell_type": "code",
   "execution_count": 3,
   "id": "owned-construction",
   "metadata": {},
   "outputs": [],
   "source": [
    "from mintpy.utils import *\n",
    "import mintpy.utils as mpu\n",
    "from mintpy.utils import readfile, writefile, ptime, utils as ut, arg_group\n",
    "import mintpy.ifgram_inversion as ifgram_inversion\n",
    "import mintpy.objects as mpo\n",
    "import mintpy.ifgram_reconstruction as ifgram_reconstruction\n",
    "import matplotlib.pyplot as plt\n",
    "import seaborn as sns\n",
    "import pandas as pd\n",
    "import matplotlib\n",
    "import numpy as np\n",
    "import os\n",
    "from scipy.ndimage import convolve, correlate\n",
    "import rasterio\n",
    "from rasterio.enums import Resampling\n",
    "import sklearn.feature_extraction.image as sklimg\n",
    "from numpy import pad"
   ]
  },
  {
   "cell_type": "code",
   "execution_count": 4,
   "id": "95a655e1",
   "metadata": {},
   "outputs": [],
   "source": [
    "sigma = 3.0\n",
    "win_size = 5\n",
    "N = win_size**2\n",
    "kern = np.ones((win_size,win_size))"
   ]
  },
  {
   "cell_type": "code",
   "execution_count": 5,
   "id": "inappropriate-committee",
   "metadata": {},
   "outputs": [],
   "source": [
    "# AOI = 'POLYGON((27.17121709587778 38.46679733384794,27.207008492972506 38.46679733384794,27.207008492972506 38.44770922788257,27.17121709587778 38.44770922788257,27.17121709587778 38.46679733384794))'"
   ]
  },
  {
   "cell_type": "markdown",
   "id": "marine-ceramic",
   "metadata": {},
   "source": [
    "> ağır hasarlı - Severely damaged\n",
    ">\n",
    "> yiklims - detroyed\n",
    ">\n",
    "> kismin yiklims - partly destroyed"
   ]
  },
  {
   "cell_type": "code",
   "execution_count": 6,
   "id": "electronic-capitol",
   "metadata": {},
   "outputs": [],
   "source": [
    "slc_int = rasterio.open('/data1/data/sar_izmir/izmir_data/Subset_SLC_20201012_1024_Orb_split_IW2_B12_Stack_esd_deb_ML_TC.tif')"
   ]
  },
  {
   "cell_type": "code",
   "execution_count": 7,
   "id": "robust-architect",
   "metadata": {},
   "outputs": [],
   "source": [
    "slc_anc_int_VV = slc_int.read(1, out_shape=(110, 206),resampling=Resampling.bilinear)\n",
    "slc_pre_int_VV = slc_int.read(2, out_shape=(110, 206),resampling=Resampling.bilinear)"
   ]
  },
  {
   "cell_type": "code",
   "execution_count": 8,
   "id": "saved-pantyhose",
   "metadata": {},
   "outputs": [],
   "source": [
    "slc_anc_int_VV_db = (10*np.log10(slc_anc_int_VV))\n",
    "slc_pre_int_VV_db = (10*np.log10(slc_pre_int_VV))"
   ]
  },
  {
   "cell_type": "code",
   "execution_count": 9,
   "id": "residential-balance",
   "metadata": {},
   "outputs": [],
   "source": [
    "mintpydir = '/data1/data/sar_izmir/mintpy_17/izmir/'"
   ]
  },
  {
   "cell_type": "code",
   "execution_count": 10,
   "id": "normal-tyler",
   "metadata": {},
   "outputs": [
    {
     "data": {
      "text/plain": [
       "['unwrapPhase', 'coherence', 'magnitude']"
      ]
     },
     "execution_count": 10,
     "metadata": {},
     "output_type": "execute_result"
    }
   ],
   "source": [
    "stack_obj = mpo.ifgramStack(os.path.join(mintpydir,'inputs','ifgramStack.h5'))\n",
    "stack_obj.open(print_msg=False)\n",
    "stack_obj.datasetNames"
   ]
  },
  {
   "cell_type": "code",
   "execution_count": 11,
   "id": "possible-peninsula",
   "metadata": {},
   "outputs": [
    {
     "name": "stdout",
     "output_type": "stream",
     "text": [
      "reading unwrapPhase data from file: /data1/data/sar_izmir/mintpy_17/izmir/inputs/ifgramStack.h5 ...\n"
     ]
    },
    {
     "data": {
      "text/plain": [
       "(75, 110, 206)"
      ]
     },
     "execution_count": 11,
     "metadata": {},
     "output_type": "execute_result"
    }
   ],
   "source": [
    "ifgram = stack_obj.read('unwrapPhase')\n",
    "ifgram.shape"
   ]
  },
  {
   "cell_type": "code",
   "execution_count": 12,
   "id": "c5a372be",
   "metadata": {},
   "outputs": [
    {
     "name": "stdout",
     "output_type": "stream",
     "text": [
      "reading magnitude data from file: /data1/data/sar_izmir/mintpy_17/izmir/inputs/ifgramStack.h5 ...\n"
     ]
    },
    {
     "data": {
      "text/plain": [
       "(75, 110, 206)"
      ]
     },
     "execution_count": 12,
     "metadata": {},
     "output_type": "execute_result"
    }
   ],
   "source": [
    "magnitude = stack_obj.read('magnitude')\n",
    "magnitude.shape"
   ]
  },
  {
   "cell_type": "code",
   "execution_count": 13,
   "id": "6a5b1954",
   "metadata": {},
   "outputs": [
    {
     "name": "stdout",
     "output_type": "stream",
     "text": [
      "reading coherence data from file: /data1/data/sar_izmir/mintpy_17/izmir/inputs/ifgramStack.h5 ...\n"
     ]
    },
    {
     "data": {
      "text/plain": [
       "(75, 110, 206)"
      ]
     },
     "execution_count": 13,
     "metadata": {},
     "output_type": "execute_result"
    }
   ],
   "source": [
    "coherence = stack_obj.read('coherence')\n",
    "coherence.shape"
   ]
  },
  {
   "cell_type": "code",
   "execution_count": 14,
   "id": "passive-international",
   "metadata": {},
   "outputs": [
    {
     "data": {
      "text/plain": [
       "(110, 206)"
      ]
     },
     "execution_count": 14,
     "metadata": {},
     "output_type": "execute_result"
    }
   ],
   "source": [
    "rst_shp = ifgram.shape[1:]\n",
    "rst_shp"
   ]
  },
  {
   "cell_type": "code",
   "execution_count": 15,
   "id": "photographic-mapping",
   "metadata": {},
   "outputs": [],
   "source": [
    "date_list = stack_obj.get_date_list(dropIfgram=True)\n",
    "num_date = len(date_list)\n",
    "tbase = np.array(ptime.date_list2tbase(date_list)[0], np.float32) / 365.25\n",
    "tbase_diff = np.diff(tbase).reshape(-1, 1)"
   ]
  },
  {
   "cell_type": "code",
   "execution_count": 16,
   "id": "impressed-companion",
   "metadata": {
    "scrolled": false
   },
   "outputs": [],
   "source": [
    "date_idx = {d:i for i, d in enumerate(date_list)}\n",
    "# date_idx"
   ]
  },
  {
   "cell_type": "code",
   "execution_count": 17,
   "id": "foreign-central",
   "metadata": {},
   "outputs": [],
   "source": [
    "anc_dat_idx = date_idx['20201012']\n",
    "pre_dat_idx = date_idx['20201024'] \n",
    "pst_dat_idx = date_idx['20201105']\n",
    "# anc_dat_idx, pre_dat_idx, pst_dat_idx"
   ]
  },
  {
   "cell_type": "code",
   "execution_count": 18,
   "id": "boring-copper",
   "metadata": {},
   "outputs": [],
   "source": [
    "# design matrix\n",
    "date12_list_G = stack_obj.get_date12_list(dropIfgram=False)\n",
    "G = stack_obj.get_design_matrix4timeseries(date12_list_G, refDate='no')[0]\n",
    "date12_list = stack_obj.get_date12_list(dropIfgram=True)\n",
    "A, B = stack_obj.get_design_matrix4timeseries(date12_list=date12_list, refDate='no')[0:2]"
   ]
  },
  {
   "cell_type": "code",
   "execution_count": 19,
   "id": "arranged-trunk",
   "metadata": {
    "scrolled": false
   },
   "outputs": [],
   "source": [
    "date12_idx = {d:i for i, d in enumerate(date12_list)}\n",
    "# date12_idx"
   ]
  },
  {
   "cell_type": "code",
   "execution_count": 20,
   "id": "rotary-eight",
   "metadata": {},
   "outputs": [],
   "source": [
    "ts, atr = mpu.readfile.read(os.path.join(mintpydir,'timeseries_ERA5_demErr.h5'))\n",
    "range2phase = -4.*np.pi / float(atr['WAVELENGTH'])\n",
    "ts_data = ts * range2phase"
   ]
  },
  {
   "cell_type": "code",
   "execution_count": 21,
   "id": "b5d53b4b",
   "metadata": {},
   "outputs": [],
   "source": [
    "tmp_coh, tmp_coh_atr = mpu.readfile.read(os.path.join(mintpydir,'temporalCoherence.h5'))"
   ]
  },
  {
   "cell_type": "code",
   "execution_count": 22,
   "id": "7a6de3d7",
   "metadata": {},
   "outputs": [],
   "source": [
    "ts_rec, atr_rec = mpu.readfile.read(os.path.join(mintpydir,'timeseries.h5'))\n",
    "def getSubRecIgram(ts, atr, included=None):\n",
    "    range2phase = -4.*np.pi / float(atr['WAVELENGTH'])\n",
    "    ts_data = ts * range2phase\n",
    "    num_date, length, width = ts_data.shape\n",
    "    ts_data = ts_data.reshape(num_date, -1)\n",
    "\n",
    "    G_new = G.copy()\n",
    "    include = (G_new[:,included] != 0)*stack_obj.dropIfgram\n",
    "\n",
    "    ifgram_est = np.dot(G_new[include,0:num_date], ts_data).reshape(G_new[include,0:num_date].shape[0], length, width)    \n",
    "    pha_data = np.array(ifgram_est, dtype=ts_data.dtype)\n",
    "\n",
    "    pha_data[np.isnan(pha_data)] = 0.\n",
    "\n",
    "    rec_ifgram = pha_data\n",
    "    return rec_ifgram, include[stack_obj.dropIfgram]"
   ]
  },
  {
   "cell_type": "code",
   "execution_count": 23,
   "id": "d0e915e2",
   "metadata": {},
   "outputs": [
    {
     "name": "stdout",
     "output_type": "stream",
     "text": [
      "reference pixel in y/x: (102, 25) from dataset: unwrapPhase\n",
      "reading unwrapPhase in None * 24 ...\n",
      "use input reference phase\n"
     ]
    }
   ],
   "source": [
    "ref_phase = stack_obj.get_reference_phase(unwDatasetName='unwrapPhase',\n",
    "                                          skip_reference=False,\n",
    "                                          dropIfgram=True)\n",
    "pha_data = ifgram_inversion.read_unwrap_phase(stack_obj,\n",
    "                                              None, \n",
    "                                              ref_phase, \n",
    "                                              obs_ds_name='unwrapPhase', \n",
    "                                              dropIfgram=True).reshape((-1,)+rst_shp)\n",
    "pha_data = pha_data.reshape(A.shape[0], -1)"
   ]
  },
  {
   "cell_type": "code",
   "execution_count": 24,
   "id": "8fc94225",
   "metadata": {},
   "outputs": [],
   "source": [
    "subrec_ifgram, include = getSubRecIgram(ts_rec, atr_rec, pre_dat_idx)\n",
    "ifgram_diff = pha_data[include].reshape(subrec_ifgram.shape) - subrec_ifgram\n",
    "inv_quality = np.abs(np.sum(np.exp(1j*ifgram_diff), axis=0))/include.sum()\n",
    "tem_pre_coh = inv_quality.reshape(ts.shape[1:3])"
   ]
  },
  {
   "cell_type": "code",
   "execution_count": 25,
   "id": "e38fad8b",
   "metadata": {},
   "outputs": [],
   "source": [
    "sigma0 = rasterio.open('/data1/data/sar_izmir/izmir_data/Subset_20201012_1024_1105_Orb_Thm_Bdr_Cal_ML_Stack_Spk_TC.tif')\n",
    "anc_sigma0 = sigma0.read(3, out_shape=(110, 206),resampling=Resampling.bilinear) #DB Intensity\n",
    "pre_sigma0 = sigma0.read(1, out_shape=(110, 206),resampling=Resampling.bilinear) #DB Intensity\n",
    "pst_sigma0 = sigma0.read(2, out_shape=(110, 206),resampling=Resampling.bilinear) #DB Intensity\n",
    "# pre_sigma0.min(), pre_sigma0.max()"
   ]
  },
  {
   "cell_type": "code",
   "execution_count": 26,
   "id": "utility-failing",
   "metadata": {},
   "outputs": [],
   "source": [
    "date12_diag = [\"{}_{}\".format(a,b) for a,b in zip(date_list[0:-1], date_list[1:])]"
   ]
  },
  {
   "cell_type": "code",
   "execution_count": 27,
   "id": "robust-company",
   "metadata": {},
   "outputs": [],
   "source": [
    "date12_didx = [date12_idx[i] for i in date12_diag]"
   ]
  },
  {
   "cell_type": "code",
   "execution_count": 28,
   "id": "6effff36",
   "metadata": {},
   "outputs": [],
   "source": [
    "coh_data_cor = []\n",
    "for c in coherence[date12_didx]:\n",
    "    coh_data_cor.append(  correlate(c,kern/N) )\n",
    "coh_data_cor = np.asarray(coh_data_cor)"
   ]
  },
  {
   "cell_type": "code",
   "execution_count": 29,
   "id": "c1b9eead",
   "metadata": {},
   "outputs": [],
   "source": [
    "coherence_preseismic = coh_data_cor[-2]\n",
    "coherence_co_siesmic = coh_data_cor[-1]"
   ]
  },
  {
   "cell_type": "code",
   "execution_count": 30,
   "id": "87a41116",
   "metadata": {},
   "outputs": [],
   "source": [
    "mag_data_cor = []\n",
    "for m in magnitude[date12_didx]:\n",
    "    mag_data_cor.append( correlate(m,kern/N) )\n",
    "mag_data_cor = np.asarray(mag_data_cor)\n",
    "magnitude_preseismic = mag_data_cor[-2]\n",
    "magnitude_co_siesmic = mag_data_cor[-1]"
   ]
  },
  {
   "cell_type": "code",
   "execution_count": 31,
   "id": "e92a9c43",
   "metadata": {},
   "outputs": [],
   "source": [
    "pha_data_cor = []\n",
    "for p in ifgram[date12_didx]:\n",
    "    pha_data_cor.append(  correlate(p,kern/N) )\n",
    "pha_data_cor = np.asarray(pha_data_cor)"
   ]
  },
  {
   "cell_type": "code",
   "execution_count": 32,
   "id": "5ce00e86",
   "metadata": {},
   "outputs": [],
   "source": [
    "phase_preseismic = pha_data_cor[-2]\n",
    "phase_co_siesmic = pha_data_cor[-1]"
   ]
  },
  {
   "cell_type": "code",
   "execution_count": 33,
   "id": "5fd81071",
   "metadata": {},
   "outputs": [],
   "source": [
    "anc_sigma0_VV_mu = correlate(anc_sigma0,kern/N)\n",
    "pre_sigma0_VV_mu = correlate(pre_sigma0,kern/N)\n",
    "pst_sigma0_VV_mu = correlate(pst_sigma0,kern/N)"
   ]
  },
  {
   "cell_type": "code",
   "execution_count": 34,
   "id": "694b1bdb",
   "metadata": {},
   "outputs": [
    {
     "data": {
      "text/plain": [
       "(21, 23)"
      ]
     },
     "execution_count": 34,
     "metadata": {},
     "output_type": "execute_result"
    }
   ],
   "source": [
    "pr_sis_idx = date12_idx['20201012_20201024']; \n",
    "co_sis_idx = date12_idx['20201024_20201105'];\n",
    "pr_sis_idx, co_sis_idx"
   ]
  },
  {
   "cell_type": "code",
   "execution_count": 35,
   "id": "93fbb2ca",
   "metadata": {},
   "outputs": [],
   "source": [
    "range2phase = -4.*np.pi / float(atr['WAVELENGTH'])"
   ]
  },
  {
   "cell_type": "code",
   "execution_count": 36,
   "id": "e9c4f65d",
   "metadata": {},
   "outputs": [],
   "source": [
    "hist_coh_preseismic = (coh_data_cor[:-1]).mean(axis=0)\n",
    "hist_coh_co_seismic = (coh_data_cor[1:]).mean(axis=0)\n",
    "std_coh_preseismic  = (coh_data_cor[:-1]).std(axis=0)\n",
    "std_coh_co_seismic  = (coh_data_cor[1:]).std(axis=0)"
   ]
  },
  {
   "cell_type": "code",
   "execution_count": 37,
   "id": "5d70240f",
   "metadata": {},
   "outputs": [],
   "source": [
    "hist_mag_preseismic = (mag_data_cor[:-1]).mean(axis=0)\n",
    "std_mag_preseismic  = (mag_data_cor[:-1]).std(axis=0)"
   ]
  },
  {
   "cell_type": "code",
   "execution_count": 38,
   "id": "0e5615ff",
   "metadata": {},
   "outputs": [],
   "source": [
    "our_preseismic = (hist_coh_preseismic  + 3*std_coh_preseismic)\n",
    "our_co_seismic = (coherence_co_siesmic - 3*std_coh_co_seismic)"
   ]
  },
  {
   "cell_type": "code",
   "execution_count": 39,
   "id": "1a6272ab",
   "metadata": {},
   "outputs": [],
   "source": [
    "def standardize_parms(a):\n",
    "    return a.max(), a.min()\n",
    "\n",
    "def standardize(a, max=None, min=None, rnge=[-1,1]):\n",
    "    if max is None:\n",
    "        max = a.max()\n",
    "    if min is None:\n",
    "        min = a.min()\n",
    "    width=rnge[1]-rnge[0]\n",
    "    return (((a-min)/(max-min))*width + rnge[0]).astype(np.float32)"
   ]
  },
  {
   "cell_type": "code",
   "execution_count": 40,
   "id": "1cb315cb",
   "metadata": {},
   "outputs": [],
   "source": [
    "max_tc, min_tc = standardize_parms(tem_pre_coh)\n",
    "max_c, min_c = standardize_parms(coherence_preseismic)\n",
    "max_hc, min_hc = standardize_parms(hist_coh_preseismic)\n",
    "max_sc, min_sc = standardize_parms(std_coh_preseismic)\n",
    "max_s, min_s = standardize_parms(pre_sigma0_VV_mu)\n",
    "max_oc, min_oc = standardize_parms(our_preseismic)\n",
    "\n",
    "max_re, min_re = standardize_parms(sigma*std_coh_preseismic - np.abs(hist_coh_preseismic - coherence_preseismic))\n",
    "max_dc, min_dc = standardize_parms((hist_coh_preseismic - coherence_preseismic)/std_coh_preseismic)\n",
    "max_sr, min_sr = standardize_parms(hist_coh_preseismic/std_coh_preseismic)\n",
    "max_ds, min_ds = standardize_parms(anc_sigma0_VV_mu-pre_sigma0_VV_mu)\n",
    "max_ss, min_ss = standardize_parms(anc_sigma0_VV_mu+pre_sigma0_VV_mu)\n",
    "max_rs, min_rs = standardize_parms(coherence_preseismic/hist_coh_preseismic)\n",
    "\n",
    "seg_image = np.stack([                \n",
    "                standardize(std_coh_preseismic, rnge=[0,1]),\n",
    "#                 standardize(hist_coh_preseismic-coherence_preseismic, rnge=[0,1]),\n",
    "                standardize(hist_coh_preseismic, rnge=[0,1]),\n",
    "#                 standardize(hist_coh_preseismic/std_coh_preseismic, rnge=[0,1]),\n",
    "#                 standardize((coherence_preseismic-hist_coh_preseismic)/std_coh_preseismic, rnge=[0,1]),\n",
    "#                 standardize(coherence_preseismic/hist_coh_preseismic, rnge=[0,1]),\n",
    "#                 standardize(anc_sigma0_VV_mu, rnge=[0,1]),\n",
    "#                 standardize(pre_sigma0_VV_mu, rnge=[0,1]),\n",
    "#                 standardize(anc_sigma0_VV_mu-pre_sigma0_VV_mu, rnge=[0,1]),\n",
    "                standardize(anc_sigma0_VV_mu+pre_sigma0_VV_mu, rnge=[0,1]),\n",
    "#                 np.zeros(rst_shp),\n",
    "#                 np.zeros(rst_shp),\n",
    "                ], axis=2)"
   ]
  },
  {
   "cell_type": "code",
   "execution_count": 41,
   "id": "4277c64a",
   "metadata": {},
   "outputs": [
    {
     "name": "stdout",
     "output_type": "stream",
     "text": [
      "SLIC number of segments: 18\n"
     ]
    },
    {
     "data": {
      "image/png": "[encoded data removed]",
      "text/plain": [
       "<Figure size 1152x720 with 2 Axes>"
      ]
     },
     "metadata": {
      "needs_background": "light"
     },
     "output_type": "display_data"
    }
   ],
   "source": [
    "import matplotlib.pyplot as plt\n",
    "import numpy as np\n",
    "\n",
    "from skimage.data import astronaut\n",
    "from skimage.color import rgb2gray\n",
    "from skimage.filters import sobel\n",
    "from skimage.segmentation import felzenszwalb, slic, quickshift, watershed\n",
    "from skimage.segmentation import mark_boundaries\n",
    "from skimage.util import img_as_float\n",
    "\n",
    "img = seg_image.astype(np.float64)\n",
    "\n",
    "segments_slic_square = slic(img, n_segments=20, compactness=500.0, sigma=1.0, \n",
    "                     start_label=1, enforce_connectivity=False)\n",
    "# our pixel2vec\n",
    "segments_slic = slic(img, n_segments=20, compactness=10.0, sigma=0.0,\n",
    "                     start_label=1, enforce_connectivity=False)\n",
    "\n",
    "print(f\"SLIC number of segments: {len(np.unique(segments_slic))}\")\n",
    "\n",
    "fig, ax = plt.subplots(2, 1, figsize=(16, 10), sharex=True, sharey=True)\n",
    "\n",
    "ax[0].imshow(mark_boundaries(img, segments_slic, color=(0.9,0,0), ))\n",
    "ax[1].imshow(mark_boundaries(img, segments_slic_square, color=(0.9,0,0)))\n",
    "ax[0].set_axis_off()\n",
    "ax[1].set_axis_off()\n",
    "plt.tight_layout()\n",
    "plt.show();"
   ]
  },
  {
   "cell_type": "code",
   "execution_count": 42,
   "id": "7bdbab66",
   "metadata": {
    "scrolled": false
   },
   "outputs": [
    {
     "data": {
      "image/png": "[encoded data removed]",
      "text/plain": [
       "<Figure size 1152x720 with 2 Axes>"
      ]
     },
     "metadata": {
      "needs_background": "light"
     },
     "output_type": "display_data"
    }
   ],
   "source": [
    "fig, ax = plt.subplots(2,1,figsize=(16,10))\n",
    "ax[0].imshow(segments_slic, cmap='tab20')\n",
    "ax[1].imshow(segments_slic_square, cmap='tab20')\n",
    "ax[0].set_axis_off()\n",
    "ax[1].set_axis_off()\n",
    "plt.tight_layout()\n",
    "# plt.savefig(\"/home/tvanzyl/download.png\", bbox_inches='tight', transparent=True, pad_inches=0 )"
   ]
  },
  {
   "cell_type": "code",
   "execution_count": 43,
   "id": "f32e4fab",
   "metadata": {},
   "outputs": [
    {
     "name": "stdout",
     "output_type": "stream",
     "text": [
      "Skipped\n"
     ]
    }
   ],
   "source": [
    "if win_size == 1:\n",
    "    np.save(os.path.join(mintpydir,\"pixel_class.npy\"),segments_slic)\n",
    "    np.save(os.path.join(mintpydir,\"pixel_class_tile.npy\"),segments_slic_square)\n",
    "else:\n",
    "    print('Skipped')"
   ]
  },
  {
   "cell_type": "code",
   "execution_count": 44,
   "id": "b906b42c",
   "metadata": {},
   "outputs": [
    {
     "data": {
      "text/plain": [
       "(0.008051354, 0.17528625, 0.33422711, 0.889743)"
      ]
     },
     "execution_count": 44,
     "metadata": {},
     "output_type": "execute_result"
    }
   ],
   "source": [
    "std_coh_preseismic.min(), std_coh_preseismic.max(), hist_coh_preseismic.min(), hist_coh_preseismic.max()"
   ]
  },
  {
   "cell_type": "code",
   "execution_count": 45,
   "id": "a9a82d30",
   "metadata": {},
   "outputs": [],
   "source": [
    "max_re, min_re = 1, 0"
   ]
  },
  {
   "cell_type": "code",
   "execution_count": 46,
   "id": "217afb29",
   "metadata": {
    "scrolled": false
   },
   "outputs": [
    {
     "data": {
      "text/plain": [
       "array([[ 1.,  1.,  1., ..., -1., -1., -1.],\n",
       "       [ 1.,  1.,  1., ..., -1., -1., -1.],\n",
       "       [ 1.,  1.,  1., ..., -1.,  1., -1.],\n",
       "       ...,\n",
       "       [-1., -1., -1., ...,  1.,  1.,  1.],\n",
       "       [-1., -1., -1., ...,  1.,  1.,  1.],\n",
       "       [-1., -1., -1., ...,  1.,  1.,  1.]])"
      ]
     },
     "execution_count": 46,
     "metadata": {},
     "output_type": "execute_result"
    }
   ],
   "source": [
    "coherence_lesser_mask = (coh_data_cor[:-1].mean(axis=0)>coherence_co_siesmic)*2.0 - 1.0\n",
    "# coherence_lesser_mask = (coh_data_cor[:-1].mean(axis=0)-coherence_co_siesmic)\n",
    "if win_size == 5:\n",
    "    np.save(os.path.join(mintpydir,\"coherence_lesser_mask.npy\"),coherence_lesser_mask)\n",
    "coherence_lesser_mask"
   ]
  },
  {
   "cell_type": "code",
   "execution_count": 47,
   "id": "dac5109b",
   "metadata": {},
   "outputs": [],
   "source": [
    "image = np.stack([\n",
    "#                 1.0+std_coh_preseismic,\n",
    "                standardize(coherence_preseismic, 1, 0, rnge=[-1,1]),\n",
    "#                 standardize(hist_coh_preseismic/std_coh_preseismic, max_sr, min_sr, rnge=[-1,1]),\n",
    "#                 standardize(coherence_preseismic, 1, 0, rnge=[-1,1]),\n",
    "                standardize(sigma*std_coh_preseismic - np.abs(hist_coh_preseismic - coherence_preseismic), rnge=[-1,1]),\n",
    "#                 standardize((hist_coh_preseismic - coherence_preseismic)/std_coh_preseismic, max_dc, min_dc, rnge=[-1,1]),\n",
    "#                 standardize(coherence_preseismic/hist_coh_preseismic, max_rs, min_rs, rnge=[-1,1]),\n",
    "                standardize(anc_sigma0_VV_mu, max_s, min_s, rnge=[-1,1]),\n",
    "                standardize(pre_sigma0_VV_mu, max_s, min_s, rnge=[-1,1]),\n",
    "#                 standardize(anc_sigma0_VV_mu-pre_sigma0_VV_mu, max_ds, min_ds, rnge=[-1,1]),\n",
    "#                 standardize(anc_sigma0_VV_mu+pre_sigma0_VV_mu, max_ss, min_ss, rnge=[-1,1]),\n",
    "#                 ((hist_coh_preseismic>coherence_preseismic)*2.0 - 1.0).astype(np.float32)\n",
    "                ], axis=2)"
   ]
  },
  {
   "cell_type": "code",
   "execution_count": 48,
   "id": "aaf956aa",
   "metadata": {},
   "outputs": [],
   "source": [
    "for patch_size in [(3,3),(5,5),(7,7),(9,9)]:\n",
    "    pr = patch_size[0]//2\n",
    "    patches = sklimg.extract_patches_2d(pad(image,((pr,pr),(pr,pr),(0,0)),'reflect'),patch_size)\n",
    "    patches = patches.reshape(patches.shape[:3]+(-1,))\n",
    "    np.save(os.path.join(mintpydir,\"patches_%s_%s.npy\"%(patch_size[0], win_size)),patches)"
   ]
  },
  {
   "cell_type": "code",
   "execution_count": 49,
   "id": "a8826994",
   "metadata": {},
   "outputs": [],
   "source": [
    "iembed = np.stack([\n",
    "#                 1.0+3*std_coh_preseismic,\n",
    "                standardize(hist_coh_preseismic, 1, 0, rnge=[-1,1]),\n",
    "#                 standardize(hist_coh_preseismic + 3*std_coh_preseismic, 1, 0, rnge=[-1,1]),\n",
    "#                 standardize(hist_coh_preseismic/std_coh_preseismic + 3, max_sr, min_sr, rnge=[-1,1]),\n",
    "#                 standardize(3*std_coh_preseismic - np.abs(hist_coh_preseismic - coherence_co_siesmic), 1, 0, rnge=[-1,1]),\n",
    "                -1*np.ones(rst_shp, dtype=np.float32),\n",
    "#                 standardize((hist_coh_preseismic - coherence_preseismic), max_re, min_re, rnge=[-1,1]),\n",
    "#                 standardize((hist_coh_preseismic - coherence_preseismic)/std_coh_preseismic, max_dc, min_dc, rnge=[-1,1]),\n",
    "#                 standardize(coherence_preseismic/hist_coh_preseismic, max_rs, min_rs, rnge=[-1,1]),\n",
    "                standardize(anc_sigma0_VV_mu, max_s, min_s, rnge=[-1,1]),\n",
    "                standardize(pre_sigma0_VV_mu, max_s, min_s, rnge=[-1,1]),\n",
    "#                 standardize(anc_sigma0_VV_mu-pre_sigma0_VV_mu, max_ds, min_ds, rnge=[-1,1]),\n",
    "#                 standardize(anc_sigma0_VV_mu+pre_sigma0_VV_mu, max_ss, min_ss, rnge=[-1,1]),\n",
    "#                 ((hist_coh_preseismic>coherence_preseismic)*0.0 - 1.0).astype(np.float32)\n",
    "                ], axis=2)"
   ]
  },
  {
   "cell_type": "code",
   "execution_count": 50,
   "id": "14dc31dd",
   "metadata": {},
   "outputs": [],
   "source": [
    "for patch_size in [(3,3),(5,5),(7,7),(9,9)]:\n",
    "    pr = patch_size[0]//2\n",
    "    embed = sklimg.extract_patches_2d(pad(iembed,((pr,pr),(pr,pr),(0,0)),'reflect'),patch_size)\n",
    "    embed = embed.reshape(embed.shape[:3]+(-1,))\n",
    "    np.save(os.path.join(mintpydir,\"embed_%s_%s.npy\"%(patch_size[0], win_size)),embed)"
   ]
  },
  {
   "cell_type": "code",
   "execution_count": 51,
   "id": "55b1805a",
   "metadata": {},
   "outputs": [],
   "source": [
    "itest = np.stack([                \n",
    "#                 np.ones(rst_shp, dtype=np.float32),\n",
    "                standardize(coherence_co_siesmic, 1, 0, rnge=[-1,1]),\n",
    "#                 standardize(coherence_co_siesmic/std_coh_preseismic, max_sr, min_sr, rnge=[-1,1]),\n",
    "#                 standardize(coherence_co_siesmic, 1, 0, rnge=[-1,1]),\n",
    "                standardize(sigma*std_coh_co_seismic - np.abs(hist_coh_preseismic - coherence_co_siesmic), rnge=[-1,1]),\n",
    "#                 standardize((hist_coh_preseismic - coherence_co_siesmic)/std_coh_preseismic, max_dc, min_dc, rnge=[-1,1]),\n",
    "#                 standardize(coherence_co_siesmic/hist_coh_preseismic, max_rs, min_rs, rnge=[-1,1]),\n",
    "                standardize(pre_sigma0_VV_mu, max_s, min_s, rnge=[-1,1]),\n",
    "                standardize(pst_sigma0_VV_mu, max_s, min_s, rnge=[-1,1]),\n",
    "#                 standardize(pre_sigma0_VV_mu-pst_sigma0_VV_mu, max_ds, min_ds, rnge=[-1,1]),\n",
    "#                 standardize(pst_sigma0_VV_mu+pre_sigma0_VV_mu, max_ss, min_ss, rnge=[-1,1]),\n",
    "#                 ((hist_coh_preseismic>coherence_co_siesmic)*2.0 - 1.0).astype(np.float32)\n",
    "                ], axis=2)"
   ]
  },
  {
   "cell_type": "code",
   "execution_count": 52,
   "id": "da126c33",
   "metadata": {},
   "outputs": [],
   "source": [
    "for patch_size in [(3,3),(5,5),(7,7),(9,9)]:\n",
    "    pr = patch_size[0]//2\n",
    "    pattest = sklimg.extract_patches_2d(pad(itest,((pr,pr),(pr,pr),(0,0)),'reflect'),patch_size)\n",
    "    pattest = pattest.reshape(pattest.shape[:3]+(-1,))\n",
    "    np.save(os.path.join(mintpydir,\"pattest_%s_%s.npy\"%(patch_size[0], win_size)),pattest)"
   ]
  },
  {
   "cell_type": "code",
   "execution_count": 53,
   "id": "f47890e0",
   "metadata": {},
   "outputs": [],
   "source": [
    "c_idx = (np.repeat(1j*np.arange(image.shape[1]).reshape((1,image.shape[1])), image.shape[0], axis=0) +\\\n",
    "         np.arange(image.shape[0]).reshape((image.shape[0],1))\n",
    "        ).flatten()\n",
    "np.save(os.path.join(mintpydir,\"c_idx.npy\"),c_idx)"
   ]
  },
  {
   "cell_type": "markdown",
   "id": "809822aa",
   "metadata": {},
   "source": []
  },
  {
   "cell_type": "code",
   "execution_count": null,
   "id": "cae2c246",
   "metadata": {},
   "outputs": [],
   "source": []
  },
  {
   "cell_type": "code",
   "execution_count": 54,
   "id": "254be928",
   "metadata": {},
   "outputs": [],
   "source": [
    "# plt.figure(figsize=(16,25))\n",
    "# plt.subplot(621)\n",
    "# plt.imshow(standardize(pre_sigma0_VV_mu, max_m, min_m, rnge=[0,1]));\n",
    "# plt.subplot(622)\n",
    "# plt.imshow(standardize(pst_sigma0_VV_mu, max_m, min_m, rnge=[0,1]));\n",
    "# plt.subplot(623)\n",
    "# plt.imshow(standardize(magnitude_preseismic, max_n, min_n, rnge=[0,1]));\n",
    "# plt.subplot(624)\n",
    "# plt.imshow(standardize(magnitude_co_siesmic, max_n, min_n, rnge=[0,1]));\n",
    "# plt.subplot(625)\n",
    "# plt.imshow(standardize(coherence_preseismic, max_c, min_c, rnge=[0,1]));\n",
    "# plt.subplot(626)\n",
    "# plt.imshow(standardize(coherence_co_siesmic, max_c, min_c, rnge=[0,1]));\n",
    "# plt.subplot(627)\n",
    "# plt.imshow(standardize(np.angle(np.exp(-1j*ts[pre_dat_idx])), max_p, min_p, rnge=[0,1]));\n",
    "# plt.subplot(628)\n",
    "# plt.imshow(standardize(np.angle(np.exp(-1j*ts[pst_dat_idx])), max_p, min_p, rnge=[0,1]));\n",
    "# plt.subplot(629)\n",
    "# plt.imshow(standardize(ts[pre_dat_idx], max_t, min_t, rnge=[0,1]));\n",
    "# plt.subplot(6,2,10)\n",
    "# plt.imshow(standardize(ts[pst_dat_idx], max_t, min_t, rnge=[0,1]));\n",
    "# plt.subplot(6,2,11)\n",
    "# plt.imshow(standardize(phase_preseismic, max_i, min_i, rnge=[0,1]));\n",
    "# plt.subplot(6,2,12)\n",
    "# plt.imshow(standardize(phase_co_siesmic, max_i, min_i, rnge=[0,1]));"
   ]
  },
  {
   "cell_type": "code",
   "execution_count": null,
   "id": "11560d32",
   "metadata": {},
   "outputs": [],
   "source": []
  }
 ],
 "metadata": {
  "kernelspec": {
   "display_name": "Python 3",
   "language": "python",
   "name": "python3"
  },
  "language_info": {
   "codemirror_mode": {
    "name": "ipython",
    "version": 3
   },
   "file_extension": ".py",
   "mimetype": "text/x-python",
   "name": "python",
   "nbconvert_exporter": "python",
   "pygments_lexer": "ipython3",
   "version": "3.8.10"
  }
 },
 "nbformat": 4,
 "nbformat_minor": 5
}
