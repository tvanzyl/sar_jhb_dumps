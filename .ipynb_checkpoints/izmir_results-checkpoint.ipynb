{
 "cells": [
  {
   "cell_type": "code",
   "execution_count": 1,
   "id": "owned-construction",
   "metadata": {},
   "outputs": [],
   "source": [
    "from mintpy.utils import *\n",
    "import mintpy.utils as mpu\n",
    "from mintpy.utils import readfile, writefile, ptime, utils as ut, arg_group\n",
    "import mintpy.ifgram_inversion as ifgram_inversion\n",
    "import mintpy.objects as mpo\n",
    "import mintpy.ifgram_reconstruction as ifgram_reconstruction\n",
    "import matplotlib.pyplot as plt\n",
    "import seaborn as sns\n",
    "import pandas as pd\n",
    "import matplotlib\n",
    "import numpy as np\n",
    "from statsmodels.graphics.tsaplots import plot_pacf, plot_acf\n",
    "import os\n",
    "from scipy.ndimage import convolve, correlate\n",
    "import rasterio\n",
    "from rasterio.enums import Resampling"
   ]
  },
  {
   "cell_type": "code",
   "execution_count": 2,
   "id": "secret-snapshot",
   "metadata": {},
   "outputs": [],
   "source": [
    "sns.set_theme()\n",
    "sns.set_style(\"ticks\")\n",
    "sns.set_context(\"paper\")\n",
    "# sns.set_theme(style=\"white\") #, font_scale=0.5)\n",
    "plt.style.use(['seaborn-paper', 'seaborn-ticks'])\n",
    "sns.set_color_codes()"
   ]
  },
  {
   "cell_type": "code",
   "execution_count": 3,
   "id": "extreme-breeding",
   "metadata": {},
   "outputs": [
    {
     "name": "stdout",
     "output_type": "stream",
     "text": [
      "3.48761 2.155461519504021\n"
     ]
    }
   ],
   "source": [
    "matplotlib.rcParams['lines.linewidth']\n",
    "matplotlib.rcParams['axes.linewidth']\n",
    "plt.style.available\n",
    "matplotlib.use(\"pgf\")\n",
    "matplotlib.rcParams.update({    \n",
    "    'font.family': 'serif',\n",
    "    'font.serif': [],       # use latex default serif font\n",
    "    'font.sans-serif': [],  # use a specific sans-serif font\n",
    "    'font.monospace': [],   # use a specific sans-serif font\n",
    "    'text.usetex': True,\n",
    "    'pgf.rcfonts': False,\n",
    "    'pgf.texsystem': 'pdflatex',\n",
    "    'lines.linewidth': 0.7,\n",
    "    'axes.linewidth': 0.6,\n",
    "    'axes.unicode_minus': False\n",
    "})\n",
    "\n",
    "golden_ratio = (5**.5 - 1) / 2\n",
    "\n",
    "width  = 3.48761\n",
    "height = width*golden_ratio\n",
    "print(width,height)"
   ]
  },
  {
   "cell_type": "code",
   "execution_count": 4,
   "id": "attempted-orientation",
   "metadata": {},
   "outputs": [],
   "source": [
    "x_hi = 27.17121709587778 \n",
    "x_lo = 27.207008492972506 \n",
    "y_hi = 38.46679733384794\n",
    "y_lo = 38.44770922788257"
   ]
  },
  {
   "cell_type": "code",
   "execution_count": 5,
   "id": "front-polls",
   "metadata": {},
   "outputs": [
    {
     "data": {
      "text/plain": [
       "(27.17121709587778, 27.207008492972506, 38.46679733384794, 38.44770922788257)"
      ]
     },
     "execution_count": 5,
     "metadata": {},
     "output_type": "execute_result"
    }
   ],
   "source": [
    "x_hi,x_lo,y_hi,y_lo"
   ]
  },
  {
   "cell_type": "code",
   "execution_count": 6,
   "id": "inappropriate-committee",
   "metadata": {},
   "outputs": [],
   "source": [
    "AOI = 'POLYGON((27.17121709587778 38.46679733384794,27.207008492972506 38.46679733384794,27.207008492972506 38.44770922788257,27.17121709587778 38.44770922788257,27.17121709587778 38.46679733384794))'"
   ]
  },
  {
   "cell_type": "markdown",
   "id": "marine-ceramic",
   "metadata": {},
   "source": [
    "> ağır hasarlı - Severely damaged\n",
    ">\n",
    "> yiklims - detroyed\n",
    ">\n",
    "> kismin yiklims - partly destroyed"
   ]
  },
  {
   "cell_type": "code",
   "execution_count": 7,
   "id": "electronic-capitol",
   "metadata": {},
   "outputs": [],
   "source": [
    "slc_int = rasterio.open('/data1/data/sar_izmir/izmir_data/Subset_SLC_20201012_1024_Orb_split_IW2_B12_Stack_esd_deb_ML_TC.tif')"
   ]
  },
  {
   "cell_type": "code",
   "execution_count": 8,
   "id": "robust-architect",
   "metadata": {},
   "outputs": [],
   "source": [
    "slc_anc_int_VV = slc_int.read(1, out_shape=(110, 206),resampling=Resampling.bilinear)\n",
    "slc_pre_int_VV = slc_int.read(2, out_shape=(110, 206),resampling=Resampling.bilinear)"
   ]
  },
  {
   "cell_type": "code",
   "execution_count": 9,
   "id": "saved-pantyhose",
   "metadata": {},
   "outputs": [],
   "source": [
    "slc_anc_int_VV_db = (10*np.log10(slc_anc_int_VV))\n",
    "slc_pre_int_VV_db = (10*np.log10(slc_pre_int_VV))"
   ]
  },
  {
   "cell_type": "code",
   "execution_count": 10,
   "id": "unlikely-robinson",
   "metadata": {},
   "outputs": [],
   "source": [
    "plt.imshow(slc_anc_int_VV_db)\n",
    "plt.show()\n",
    "plt.imshow(slc_pre_int_VV_db)\n",
    "plt.show()\n",
    "# plt.imshow(slc_pst_int_VV_db)\n",
    "# plt.show()"
   ]
  },
  {
   "cell_type": "code",
   "execution_count": 11,
   "id": "deluxe-salvation",
   "metadata": {},
   "outputs": [],
   "source": [
    "grd_anc_int = rasterio.open('/data1/data/sar_izmir/izmir_data/Subset_20201012_Orb_Thm_Bdr_ML_TC.tif')\n",
    "grd_pre_int = rasterio.open('/data1/data/sar_izmir/izmir_data/Subset_20201024_Orb_Thm_Bdr_ML_TC.tif')\n",
    "grd_pst_int = rasterio.open('/data1/data/sar_izmir/izmir_data/Subset_20201105_Orb_Thm_Bdr_ML_TC.tif')"
   ]
  },
  {
   "cell_type": "code",
   "execution_count": 12,
   "id": "incomplete-insight",
   "metadata": {},
   "outputs": [],
   "source": [
    "grd_anc_int_VV = grd_anc_int.read(2, out_shape=(110, 206),resampling=Resampling.bilinear)\n",
    "grd_pre_int_VV = grd_pre_int.read(2, out_shape=(110, 206),resampling=Resampling.bilinear)\n",
    "grd_pst_int_VV = grd_pst_int.read(2, out_shape=(110, 206),resampling=Resampling.bilinear)"
   ]
  },
  {
   "cell_type": "code",
   "execution_count": 13,
   "id": "entertaining-senegal",
   "metadata": {},
   "outputs": [],
   "source": [
    "grd_anc_int_VV_db = (10*np.log10(grd_anc_int_VV))\n",
    "grd_pre_int_VV_db = (10*np.log10(grd_pre_int_VV))\n",
    "grd_pst_int_VV_db = (10*np.log10(grd_pst_int_VV))"
   ]
  },
  {
   "cell_type": "code",
   "execution_count": 14,
   "id": "professional-equilibrium",
   "metadata": {},
   "outputs": [],
   "source": [
    "plt.imshow(grd_anc_int_VV_db)\n",
    "plt.show()\n",
    "plt.imshow(grd_pre_int_VV_db)\n",
    "plt.show()\n",
    "plt.imshow(grd_pst_int_VV_db)\n",
    "plt.show()"
   ]
  },
  {
   "cell_type": "code",
   "execution_count": 15,
   "id": "parliamentary-history",
   "metadata": {},
   "outputs": [
    {
     "name": "stdout",
     "output_type": "stream",
     "text": [
      "(220, 412)\n",
      "2 410 2 218\n"
     ]
    }
   ],
   "source": [
    "tm_des = rasterio.open('/data1/data/sar_izmir/izmir_data/tmmob_destroyed_mask.tif')\n",
    "tm_pde = rasterio.open('/data1/data/sar_izmir/izmir_data/tmmob_part_destroyed_mask.tif')\n",
    "tm_dam = rasterio.open('/data1/data/sar_izmir/izmir_data/tmmob_damaged_mask.tif')\n",
    "el_des = rasterio.open('/data1/data/sar_izmir/izmir_data/elif_mask.tif')\n",
    "tm_des_mask = tm_des.read(1).astype(int)\n",
    "tm_pde_mask = tm_pde.read(1).astype(int)\n",
    "tm_dam_mask = tm_dam.read(1).astype(int)\n",
    "el_des_mask = el_des.read(1).astype(int)\n",
    "el_des_mask[175:,:] = False\n",
    "print(tm_des_mask.shape)\n",
    "full_mask = (tm_dam_mask.astype(bool) | tm_pde_mask.astype(bool) | tm_des_mask.astype(bool) | el_des_mask.astype(bool)).astype(int)\n",
    "# full_mask = (tm_des_mask.astype(bool)).astype(int)\n",
    "buffer = 2\n",
    "xl, xr = (-1*(full_mask.sum(axis=0)>0)).argmin()-buffer, (full_mask.sum(axis=0)>0).cumsum().argmax()+buffer\n",
    "yt, yb = (-1*(full_mask.sum(axis=1)>0)).argmin()-buffer, (full_mask.sum(axis=1)>0).cumsum().argmax()+buffer\n",
    "xl, xr = 0+buffer, full_mask.shape[1]-buffer\n",
    "yt, yb = 0+buffer, full_mask.shape[0]-buffer\n",
    "print(xl, xr, yt, yb)\n",
    "ye = slice(int(yt),int(yb))\n",
    "xe = slice(int(xl),int(xr))\n",
    "yem1 = slice(int(yt-1),int(yb-1))\n",
    "xem1 = slice(int(xl),int(xr))"
   ]
  },
  {
   "cell_type": "code",
   "execution_count": 16,
   "id": "subject-johnston",
   "metadata": {},
   "outputs": [],
   "source": [
    "plt.imshow(tm_des_mask*1 + tm_pde_mask*2 + tm_dam_mask*3, cmap='Set2', interpolation='none');\n",
    "plt.show();"
   ]
  },
  {
   "cell_type": "code",
   "execution_count": 17,
   "id": "726abadc",
   "metadata": {},
   "outputs": [
    {
     "data": {
      "image/png": "[encoded data removed]",
      "text/plain": [
       "<Figure size 460.8x316.8 with 1 Axes>"
      ]
     },
     "execution_count": 17,
     "metadata": {},
     "output_type": "execute_result"
    }
   ],
   "source": [
    "fig = plt.figure()\n",
    "plt.imshow(el_des_mask)\n",
    "fig"
   ]
  },
  {
   "cell_type": "code",
   "execution_count": 18,
   "id": "understanding-kinase",
   "metadata": {},
   "outputs": [
    {
     "data": {
      "text/plain": [
       "(142, 643)"
      ]
     },
     "execution_count": 18,
     "metadata": {},
     "output_type": "execute_result"
    }
   ],
   "source": [
    "# tm_dam_mask.astype(bool) | el_des_mask.astype(bool) \n",
    "# destroyed_mask = ( tm_des_mask.astype(bool) ).astype(int)[yem1,xem1]\n",
    "destroyed_mask = ( tm_des_mask.astype(bool) | el_des_mask.astype(bool) ).astype(int)[yem1,xem1]\n",
    "\n",
    "# pestroyed_mask = ( tm_pde_mask.astype(bool) | tm_des_mask.astype(bool) ).astype(int)[ye,xem1]\n",
    "pestroyed_mask = ( tm_pde_mask.astype(bool) | tm_des_mask.astype(bool) | el_des_mask.astype(bool) ).astype(int)[yem1,xem1]\n",
    "\n",
    "# damage_mask = ( tm_dam_mask.astype(bool) | tm_pde_mask.astype(bool) | tm_des_mask.astype(bool) ).astype(int)[yem1,xem1]\n",
    "damage_mask = ( tm_dam_mask.astype(bool) | tm_pde_mask.astype(bool) | tm_des_mask.astype(bool) | el_des_mask.astype(bool) ).astype(int)[yem1,xem1]\n",
    "\n",
    "destroyed_mask.sum(), damage_mask.sum() - destroyed_mask.sum()"
   ]
  },
  {
   "cell_type": "code",
   "execution_count": 19,
   "id": "plastic-cooper",
   "metadata": {},
   "outputs": [],
   "source": [
    "plt.figure(figsize=(24,12))\n",
    "plt.imshow(destroyed_mask, cmap='Set2', interpolation='none');\n",
    "plt.show();"
   ]
  },
  {
   "cell_type": "code",
   "execution_count": 20,
   "id": "residential-balance",
   "metadata": {},
   "outputs": [],
   "source": [
    "mintpydir = '/data1/data/sar_izmir/mintpy_17/izmir/'"
   ]
  },
  {
   "cell_type": "code",
   "execution_count": 21,
   "id": "directed-america",
   "metadata": {},
   "outputs": [],
   "source": [
    "# ifgram_file = ifgram_reconstruction.timeseries2ifgram('/data1/data/sar_izmir/mintpy/izmir/timeseries.h5',\n",
    "#                                                       '/data1/data/sar_izmir/mintpy/izmir/inputs/ifgramStack.h5',\n",
    "#                                                       '/tmp/reconUnwrapIfgram.h5')"
   ]
  },
  {
   "cell_type": "code",
   "execution_count": 22,
   "id": "monthly-intermediate",
   "metadata": {},
   "outputs": [],
   "source": [
    "# rec_stack_obj = mpo.ifgramStack('/tmp/reconUnwrapIfgram.h5')\n",
    "# rec_stack_obj.open(print_msg=False)\n",
    "# rec_stack_obj.datasetNames"
   ]
  },
  {
   "cell_type": "code",
   "execution_count": 23,
   "id": "painful-aggregate",
   "metadata": {},
   "outputs": [],
   "source": [
    "# rec_ifgam = rec_stack_obj.read('unwrapPhase')\n",
    "# rec_ifgam.shape"
   ]
  },
  {
   "cell_type": "code",
   "execution_count": 24,
   "id": "normal-tyler",
   "metadata": {},
   "outputs": [
    {
     "data": {
      "text/plain": [
       "['unwrapPhase', 'coherence', 'magnitude']"
      ]
     },
     "execution_count": 24,
     "metadata": {},
     "output_type": "execute_result"
    }
   ],
   "source": [
    "stack_obj = mpo.ifgramStack(os.path.join(mintpydir,'inputs','ifgramStack.h5'))\n",
    "stack_obj.open(print_msg=False)\n",
    "stack_obj.datasetNames"
   ]
  },
  {
   "cell_type": "code",
   "execution_count": 25,
   "id": "possible-peninsula",
   "metadata": {},
   "outputs": [
    {
     "name": "stdout",
     "output_type": "stream",
     "text": [
      "reading unwrapPhase data from file: /data1/data/sar_izmir/mintpy_17/izmir/inputs/ifgramStack.h5 ...\n"
     ]
    },
    {
     "data": {
      "text/plain": [
       "(75, 110, 206)"
      ]
     },
     "execution_count": 25,
     "metadata": {},
     "output_type": "execute_result"
    }
   ],
   "source": [
    "ifgram = stack_obj.read('unwrapPhase')\n",
    "ifgram.shape"
   ]
  },
  {
   "cell_type": "code",
   "execution_count": 26,
   "id": "8303a29c",
   "metadata": {},
   "outputs": [
    {
     "name": "stdout",
     "output_type": "stream",
     "text": [
      "reading magnitude data from file: /data1/data/sar_izmir/mintpy_17/izmir/inputs/ifgramStack.h5 ...\n"
     ]
    },
    {
     "data": {
      "text/plain": [
       "(75, 110, 206)"
      ]
     },
     "execution_count": 26,
     "metadata": {},
     "output_type": "execute_result"
    }
   ],
   "source": [
    "magnitude = stack_obj.read('magnitude')\n",
    "magnitude.shape"
   ]
  },
  {
   "cell_type": "code",
   "execution_count": 27,
   "id": "passive-international",
   "metadata": {},
   "outputs": [
    {
     "data": {
      "text/plain": [
       "(110, 206)"
      ]
     },
     "execution_count": 27,
     "metadata": {},
     "output_type": "execute_result"
    }
   ],
   "source": [
    "rst_shp = ifgram.shape[1:]\n",
    "rst_shp"
   ]
  },
  {
   "cell_type": "code",
   "execution_count": 28,
   "id": "unique-metro",
   "metadata": {},
   "outputs": [],
   "source": [
    "def toMaskDims(dmp, ye, xe):\n",
    "    return dmp.repeat(2,axis=0).repeat(2,axis=1)[ye,xe]"
   ]
  },
  {
   "cell_type": "code",
   "execution_count": 29,
   "id": "attractive-interview",
   "metadata": {},
   "outputs": [],
   "source": [
    "ts_rec, atr_rec = mpu.readfile.read(os.path.join(mintpydir,'timeseries.h5'))\n",
    "#included = pre_dat_idx\n",
    "def getSubRecIgram(ts, atr, included=None):\n",
    "    range2phase = -4.*np.pi / float(atr['WAVELENGTH'])\n",
    "    ts_data = ts * range2phase\n",
    "    num_date, length, width = ts_data.shape\n",
    "    ts_data = ts_data.reshape(num_date, -1)\n",
    "\n",
    "    G_new = G.copy()\n",
    "    include = (G_new[:,included] != 0)*stack_obj.dropIfgram\n",
    "\n",
    "    ifgram_est = np.dot(G_new[include,0:num_date], ts_data).reshape(G_new[include,0:num_date].shape[0], length, width)    \n",
    "    pha_data = np.array(ifgram_est, dtype=ts_data.dtype)\n",
    "\n",
    "    pha_data[np.isnan(pha_data)] = 0.\n",
    "\n",
    "    rec_ifgram = pha_data\n",
    "    return rec_ifgram, include[stack_obj.dropIfgram]"
   ]
  },
  {
   "cell_type": "code",
   "execution_count": 30,
   "id": "miniature-terminology",
   "metadata": {},
   "outputs": [],
   "source": [
    "def ROC(dmp_ups, damage_mask, debug=False):\n",
    "    res_TP = []\n",
    "    res_FP = []\n",
    "    len_dmp = len(dmp_ups.flatten())\n",
    "    DS = damage_mask.sum()\n",
    "    for i in np.linspace(dmp_ups.max(),dmp_ups.min(), 1000):\n",
    "        P = (dmp_ups>=i)\n",
    "        P_sum = P.sum()\n",
    "        N = (dmp_ups<i)\n",
    "        N_sum = len_dmp - P_sum\n",
    "        TP = (P*damage_mask).sum()\n",
    "        FP = P_sum - TP\n",
    "        FN = (N*damage_mask).sum()\n",
    "        TN = N.sum() - FN        \n",
    "        TPR = TP/(TP+FN) #if P_sum > 0 else 0\n",
    "        FPR = FP/(FP+TN) #if N_sum > 0 else 0\n",
    "        res_TP.append(TPR)\n",
    "        res_FP.append(FPR)\n",
    "        if debug:\n",
    "            print(TP, FP, P_sum, N_sum, TPR, FPR)\n",
    "    return (np.array(res_FP), np.array(res_TP))"
   ]
  },
  {
   "cell_type": "code",
   "execution_count": 31,
   "id": "photographic-mapping",
   "metadata": {},
   "outputs": [],
   "source": [
    "date_list = stack_obj.get_date_list(dropIfgram=True)\n",
    "num_date = len(date_list)\n",
    "tbase = np.array(ptime.date_list2tbase(date_list)[0], np.float32) / 365.25\n",
    "tbase_diff = np.diff(tbase).reshape(-1, 1)"
   ]
  },
  {
   "cell_type": "code",
   "execution_count": 32,
   "id": "impressed-companion",
   "metadata": {
    "scrolled": false
   },
   "outputs": [
    {
     "data": {
      "text/plain": [
       "{'20200801': 0,\n",
       " '20200813': 1,\n",
       " '20200825': 2,\n",
       " '20200906': 3,\n",
       " '20200918': 4,\n",
       " '20200930': 5,\n",
       " '20201012': 6,\n",
       " '20201024': 7,\n",
       " '20201105': 8}"
      ]
     },
     "execution_count": 32,
     "metadata": {},
     "output_type": "execute_result"
    }
   ],
   "source": [
    "date_idx = {d:i for i, d in enumerate(date_list)}\n",
    "date_idx"
   ]
  },
  {
   "cell_type": "code",
   "execution_count": 33,
   "id": "foreign-central",
   "metadata": {},
   "outputs": [
    {
     "data": {
      "text/plain": [
       "(6, 7, 8)"
      ]
     },
     "execution_count": 33,
     "metadata": {},
     "output_type": "execute_result"
    }
   ],
   "source": [
    "anc_dat_idx = date_idx['20201012']\n",
    "pre_dat_idx = date_idx['20201024'] \n",
    "pst_dat_idx = date_idx['20201105']\n",
    "anc_dat_idx, pre_dat_idx, pst_dat_idx"
   ]
  },
  {
   "cell_type": "code",
   "execution_count": 34,
   "id": "boring-copper",
   "metadata": {},
   "outputs": [],
   "source": [
    "# design matrix\n",
    "date12_list_G = stack_obj.get_date12_list(dropIfgram=False)\n",
    "G = stack_obj.get_design_matrix4timeseries(date12_list_G, refDate='no')[0]\n",
    "date12_list = stack_obj.get_date12_list(dropIfgram=True)\n",
    "A, B = stack_obj.get_design_matrix4timeseries(date12_list=date12_list, refDate='no')[0:2]"
   ]
  },
  {
   "cell_type": "code",
   "execution_count": 35,
   "id": "arranged-trunk",
   "metadata": {
    "scrolled": true
   },
   "outputs": [
    {
     "data": {
      "text/plain": [
       "{'20200801_20200813': 0,\n",
       " '20200801_20200825': 1,\n",
       " '20200801_20200906': 2,\n",
       " '20200801_20200918': 3,\n",
       " '20200801_20200930': 4,\n",
       " '20200813_20200825': 5,\n",
       " '20200813_20200906': 6,\n",
       " '20200813_20201012': 7,\n",
       " '20200825_20200906': 8,\n",
       " '20200825_20200918': 9,\n",
       " '20200825_20201012': 10,\n",
       " '20200906_20200918': 11,\n",
       " '20200906_20200930': 12,\n",
       " '20200906_20201012': 13,\n",
       " '20200906_20201024': 14,\n",
       " '20200906_20201105': 15,\n",
       " '20200918_20200930': 16,\n",
       " '20200918_20201012': 17,\n",
       " '20200918_20201024': 18,\n",
       " '20200930_20201012': 19,\n",
       " '20200930_20201024': 20,\n",
       " '20201012_20201024': 21,\n",
       " '20201012_20201105': 22,\n",
       " '20201024_20201105': 23}"
      ]
     },
     "execution_count": 35,
     "metadata": {},
     "output_type": "execute_result"
    }
   ],
   "source": [
    "date12_idx = {d:i for i, d in enumerate(date12_list)}\n",
    "date12_idx"
   ]
  },
  {
   "cell_type": "code",
   "execution_count": 36,
   "id": "elect-liability",
   "metadata": {},
   "outputs": [
    {
     "name": "stdout",
     "output_type": "stream",
     "text": [
      "reading coherence in None * 24 ...\n",
      "skip checking reference pixel info - This is for offset and testing ONLY.\n",
      "reading magnitude in None * 24 ...\n",
      "use input reference phase\n",
      "reference pixel in y/x: (102, 25) from dataset: unwrapPhase\n",
      "reading unwrapPhase in None * 24 ...\n",
      "use input reference phase\n"
     ]
    }
   ],
   "source": [
    "coh_data = ifgram_inversion.read_coherence(stack_obj,\n",
    "                                           None,\n",
    "                                           dropIfgram=True).reshape((-1,)+rst_shp)\n",
    "\n",
    "nef_phase = stack_obj.get_reference_phase(unwDatasetName='magnitude',\n",
    "                                          skip_reference=True,\n",
    "                                          dropIfgram=True)\n",
    "int_data = ifgram_inversion.read_unwrap_phase(stack_obj,\n",
    "                                              None, \n",
    "                                              nef_phase, \n",
    "                                              obs_ds_name='magnitude', \n",
    "                                              dropIfgram=True).reshape((-1,)+rst_shp)\n",
    "\n",
    "ref_phase = stack_obj.get_reference_phase(unwDatasetName='unwrapPhase',\n",
    "                                          skip_reference=False,\n",
    "                                          dropIfgram=True)\n",
    "pha_data = ifgram_inversion.read_unwrap_phase(stack_obj,\n",
    "                                              None, \n",
    "                                              ref_phase, \n",
    "                                              obs_ds_name='unwrapPhase', \n",
    "                                              dropIfgram=True).reshape((-1,)+rst_shp)\n",
    "ifgram = pha_data.reshape(A.shape[0], -1)"
   ]
  },
  {
   "cell_type": "code",
   "execution_count": 37,
   "id": "desperate-rehabilitation",
   "metadata": {},
   "outputs": [
    {
     "data": {
      "text/plain": [
       "(19, 21, 23)"
      ]
     },
     "execution_count": 37,
     "metadata": {},
     "output_type": "execute_result"
    }
   ],
   "source": [
    "anc_ses_idx = date12_idx['20200930_20201012']; \n",
    "pre_ses_idx = date12_idx['20201012_20201024']; \n",
    "pst_ses_idx = date12_idx['20201024_20201105'];\n",
    "anc_ses_idx, pre_ses_idx, pst_ses_idx"
   ]
  },
  {
   "cell_type": "code",
   "execution_count": 38,
   "id": "remarkable-planning",
   "metadata": {},
   "outputs": [
    {
     "data": {
      "text/plain": [
       "(-2.8359737,\n",
       " 3.0189335,\n",
       " 0.004663711,\n",
       " -3.1082954,\n",
       " 3.0868664,\n",
       " -0.35563186,\n",
       " -3.140911,\n",
       " 3.1412108,\n",
       " -0.7526514)"
      ]
     },
     "execution_count": 38,
     "metadata": {},
     "output_type": "execute_result"
    }
   ],
   "source": [
    "pha_anc_ses = np.angle(np.exp(1j*pha_data[anc_ses_idx]))\n",
    "pha_pre_ses = np.angle(np.exp(1j*pha_data[pre_ses_idx]))\n",
    "pha_pst_ses = np.angle(np.exp(1j*pha_data[pst_ses_idx]))\n",
    "pha_anc_ses.min(), pha_anc_ses.max(), pha_anc_ses.mean(), \\\n",
    "pha_pre_ses.min(), pha_pre_ses.max(), pha_pre_ses.mean(), \\\n",
    "pha_pst_ses.min(), pha_pst_ses.max(), pha_pst_ses.mean()"
   ]
  },
  {
   "cell_type": "code",
   "execution_count": 39,
   "id": "rotary-eight",
   "metadata": {},
   "outputs": [],
   "source": [
    "ts, atr = mpu.readfile.read(os.path.join(mintpydir,'timeseries_ERA5.h5'))\n",
    "range2phase = -4.*np.pi / float(atr['WAVELENGTH'])\n",
    "ts_data = ts * range2phase"
   ]
  },
  {
   "cell_type": "code",
   "execution_count": 40,
   "id": "utility-failing",
   "metadata": {},
   "outputs": [],
   "source": [
    "date12_diag = [\"{}_{}\".format(a,b) for a,b in zip(date_list[0:-1], date_list[1:])]"
   ]
  },
  {
   "cell_type": "code",
   "execution_count": 41,
   "id": "robust-company",
   "metadata": {},
   "outputs": [],
   "source": [
    "date12_didx = [date12_idx[i] for i in date12_diag]"
   ]
  },
  {
   "cell_type": "code",
   "execution_count": 42,
   "id": "genuine-bradley",
   "metadata": {
    "scrolled": true
   },
   "outputs": [
    {
     "name": "stdout",
     "output_type": "stream",
     "text": [
      "reference pixel in y/x: (102, 25) from dataset: magnitude\n",
      "rm: cannot remove '/tmp/timeseries.h5': No such file or directory\n",
      "reference pixel in y/x: (102, 25) from dataset: magnitude\n",
      "-------------------------------------------------------------------------------\n",
      "least-squares solution with L2 min-norm on: deformation phase\n",
      "minimum redundancy: 1\n",
      "weight function: no\n",
      "mask: no\n",
      "-------------------------------------------------------------------------------\n",
      "number of interferograms: 24\n",
      "number of acquisitions  : 9\n",
      "number of lines   : 110\n",
      "number of columns : 206\n",
      "--------------------------------------------------\n",
      "create HDF5 file: /tmp/timeseries_int.h5 with w mode\n",
      "create dataset  : date       of |S8                       in size of (9,)                 with compression = None\n",
      "create dataset  : bperp      of <class 'numpy.float32'>   in size of (9,)                 with compression = None\n",
      "create dataset  : timeseries of <class 'numpy.float32'>   in size of (9, 110, 206)        with compression = None\n",
      "close  HDF5 file: /tmp/timeseries_int.h5\n",
      "--------------------------------------------------\n",
      "create HDF5 file: /tmp/temporalCoherence_int.h5 with w mode\n",
      "create dataset  : temporalCoherence of <class 'numpy.float32'>   in size of (110, 206)           with compression = None\n",
      "close  HDF5 file: /tmp/temporalCoherence_int.h5\n",
      "--------------------------------------------------\n",
      "create HDF5 file: /tmp/numInvIfgram_int.h5 with w mode\n",
      "create dataset  : mask of <class 'numpy.float32'>   in size of (110, 206)           with compression = None\n",
      "close  HDF5 file: /tmp/numInvIfgram_int.h5\n",
      "reading magnitude in (0, 0, 206, 110) * 24 ...\n",
      "use input reference phase\n",
      "skip pixels with magnitude = NaN in all interferograms\n",
      "skip pixels with zero value in file: avgSpatialCoh.h5\n",
      "number of pixels to invert: 22660 out of 22660 (100.0%)\n",
      "inverting pixels with valid magnitude in all  ifgrams (22660 pixels; 100.0%) ...\n",
      "calculating temporalCoherence in chunks of 8000 pixels: 3 chunks in total ...\n",
      "chunk 1 / 3\n",
      "chunk 2 / 3\n",
      "chunk 3 / 3\n",
      "--------------------------------------------------\n",
      "open  HDF5 file /tmp/timeseries_int.h5 in a mode\n",
      "writing dataset /timeseries                block: [0, 9, 0, 110, 0, 206]\n",
      "close HDF5 file /tmp/timeseries_int.h5.\n",
      "--------------------------------------------------\n",
      "open  HDF5 file /tmp/temporalCoherence_int.h5 in a mode\n",
      "writing dataset /temporalCoherence         block: [0, 110, 0, 206]\n",
      "close HDF5 file /tmp/temporalCoherence_int.h5.\n",
      "--------------------------------------------------\n",
      "open  HDF5 file /tmp/numInvIfgram_int.h5 in a mode\n",
      "writing dataset /mask                      block: [0, 110, 0, 206]\n",
      "close HDF5 file /tmp/numInvIfgram_int.h5.\n",
      "--------------------------------------------------\n",
      "update values on the reference pixel: (102, 25)\n",
      "set temporalCoherence on the reference pixel to 1.\n",
      "set  # of observations on the reference pixel as 24\n",
      "time used: 00 mins 0.2 secs.\n",
      "\n"
     ]
    }
   ],
   "source": [
    "nef_phase = stack_obj.get_reference_phase(unwDatasetName='magnitude',\n",
    "                                          skip_reference=False,\n",
    "                                          dropIfgram=True)\n",
    "class Inps:\n",
    "    pass\n",
    "inps = Inps()\n",
    "inps.ifgramStackFile = '/data1/data/sar_izmir/mintpy_17/izmir/inputs/ifgramStack.h5'\n",
    "inps.obsDatasetName = 'magnitude'\n",
    "inps.minNormVelocity = False\n",
    "inps.minRedundancy = 1\n",
    "inps.weightFunc = 'no'\n",
    "inps.maskDataset= False\n",
    "inps.tsFile = '/tmp/timeseries_int.h5'\n",
    "inps.invQualityFile = '/tmp/temporalCoherence_int.h5'\n",
    "inps.numInvFile = '/tmp/numInvIfgram_int.h5'\n",
    "inps.maskThreshold = 0.0\n",
    "inps.maxMemory = 8 #GB\n",
    "inps.waterMaskFile = False \n",
    "inps.cluster = False\n",
    "inps.skip_ref = False\n",
    "\n",
    "!rm /tmp/timeseries.h5\n",
    "ifgram_inversion.ifgram_inversion(inps)"
   ]
  },
  {
   "cell_type": "code",
   "execution_count": 43,
   "id": "imposed-shelter",
   "metadata": {},
   "outputs": [],
   "source": [
    "ts_int_data, atr_int = mpu.readfile.read(os.path.join('/tmp/','timeseries_int.h5'))\n",
    "ts_int_data[1:] += nef_phase[date12_didx].reshape(ts_int_data.shape[0]-1,1,1)\n",
    "# ts_int_data[1:] -= ts_int_data[:-1]\n",
    "# ts_int_data[1:,:,:] += int_data[date12_didx].mean(axis=(1,2)).reshape(-1,1,1) - ts_int_data[1:].mean(axis=(1,2)).reshape(-1,1,1)"
   ]
  },
  {
   "cell_type": "code",
   "execution_count": 44,
   "id": "established-layer",
   "metadata": {},
   "outputs": [
    {
     "data": {
      "text/plain": [
       "array([368.78015, 382.87906, 391.51294, 391.05225, 397.85626, 411.86853,\n",
       "       426.3001 , 439.08374], dtype=float32)"
      ]
     },
     "execution_count": 44,
     "metadata": {},
     "output_type": "execute_result"
    }
   ],
   "source": [
    "ts_int_data[1:].max(axis=(1,2))"
   ]
  },
  {
   "cell_type": "code",
   "execution_count": 45,
   "id": "moral-taiwan",
   "metadata": {},
   "outputs": [
    {
     "data": {
      "text/plain": [
       "array([324.90048, 315.7993 , 301.9007 , 294.80527, 286.40967, 275.7635 ,\n",
       "       260.627  , 228.03189], dtype=float32)"
      ]
     },
     "execution_count": 45,
     "metadata": {},
     "output_type": "execute_result"
    }
   ],
   "source": [
    "ts_int_data[1:].min(axis=(1,2))"
   ]
  },
  {
   "cell_type": "code",
   "execution_count": 46,
   "id": "accessory-twist",
   "metadata": {},
   "outputs": [
    {
     "data": {
      "text/plain": [
       "array([385.4835 , 381.91608, 385.92596, 381.71692, 381.38696, 384.89267,\n",
       "       385.33496, 386.5571 ], dtype=float32)"
      ]
     },
     "execution_count": 46,
     "metadata": {},
     "output_type": "execute_result"
    }
   ],
   "source": [
    "int_data[date12_didx].max(axis=(1,2))"
   ]
  },
  {
   "cell_type": "code",
   "execution_count": 47,
   "id": "brief-planning",
   "metadata": {},
   "outputs": [
    {
     "data": {
      "text/plain": [
       "array([308.1876 , 309.24088, 311.44757, 303.08258, 307.92654, 304.40433,\n",
       "       293.4514 , 298.45697], dtype=float32)"
      ]
     },
     "execution_count": 47,
     "metadata": {},
     "output_type": "execute_result"
    }
   ],
   "source": [
    "int_data[date12_didx].min(axis=(1,2)) "
   ]
  },
  {
   "cell_type": "code",
   "execution_count": 48,
   "id": "graphic-anniversary",
   "metadata": {
    "scrolled": true
   },
   "outputs": [],
   "source": [
    "for r, q in zip(ts_int_data[1:], int_data[date12_didx]):\n",
    "    plt.figure(figsize=(12,8))\n",
    "    plt.subplot(121)\n",
    "    plt.imshow(r,interpolation='none')#,vmin=250.00,vmax=400.00)\n",
    "    plt.subplot(122)\n",
    "    plt.imshow(q,interpolation='none')#,vmin=250.00,vmax=400.00)"
   ]
  },
  {
   "cell_type": "code",
   "execution_count": 49,
   "id": "subjective-placement",
   "metadata": {
    "scrolled": true
   },
   "outputs": [
    {
     "name": "stdout",
     "output_type": "stream",
     "text": [
      "reference pixel in y/x: (102, 25) from dataset: coherence\n",
      "rm: cannot remove '/tmp/timeseries.h5': No such file or directory\n",
      "reference pixel in y/x: (102, 25) from dataset: coherence\n",
      "-------------------------------------------------------------------------------\n",
      "least-squares solution with L2 min-norm on: deformation phase\n",
      "minimum redundancy: 1\n",
      "weight function: no\n",
      "mask: no\n",
      "-------------------------------------------------------------------------------\n",
      "number of interferograms: 24\n",
      "number of acquisitions  : 9\n",
      "number of lines   : 110\n",
      "number of columns : 206\n",
      "--------------------------------------------------\n",
      "create HDF5 file: /tmp/timeseries_coh.h5 with w mode\n",
      "create dataset  : date       of |S8                       in size of (9,)                 with compression = None\n",
      "create dataset  : bperp      of <class 'numpy.float32'>   in size of (9,)                 with compression = None\n",
      "create dataset  : timeseries of <class 'numpy.float32'>   in size of (9, 110, 206)        with compression = None\n",
      "close  HDF5 file: /tmp/timeseries_coh.h5\n",
      "--------------------------------------------------\n",
      "create HDF5 file: /tmp/temporalCoherence_coh.h5 with w mode\n",
      "create dataset  : temporalCoherence of <class 'numpy.float32'>   in size of (110, 206)           with compression = None\n",
      "close  HDF5 file: /tmp/temporalCoherence_coh.h5\n",
      "--------------------------------------------------\n",
      "create HDF5 file: /tmp/numInvIfgram_coh.h5 with w mode\n",
      "create dataset  : mask of <class 'numpy.float32'>   in size of (110, 206)           with compression = None\n",
      "close  HDF5 file: /tmp/numInvIfgram_coh.h5\n",
      "reading coherence in (0, 0, 206, 110) * 24 ...\n",
      "use input reference phase\n",
      "skip pixels with coherence = NaN in all interferograms\n",
      "skip pixels with zero value in file: avgSpatialCoh.h5\n",
      "number of pixels to invert: 22660 out of 22660 (100.0%)\n",
      "inverting pixels with valid coherence in all  ifgrams (22660 pixels; 100.0%) ...\n",
      "calculating temporalCoherence in chunks of 8000 pixels: 3 chunks in total ...\n",
      "chunk 1 / 3\n",
      "chunk 2 / 3\n",
      "chunk 3 / 3\n",
      "--------------------------------------------------\n",
      "open  HDF5 file /tmp/timeseries_coh.h5 in a mode\n",
      "writing dataset /timeseries                block: [0, 9, 0, 110, 0, 206]\n",
      "close HDF5 file /tmp/timeseries_coh.h5.\n",
      "--------------------------------------------------\n",
      "open  HDF5 file /tmp/temporalCoherence_coh.h5 in a mode\n",
      "writing dataset /temporalCoherence         block: [0, 110, 0, 206]\n",
      "close HDF5 file /tmp/temporalCoherence_coh.h5.\n",
      "--------------------------------------------------\n",
      "open  HDF5 file /tmp/numInvIfgram_coh.h5 in a mode\n",
      "writing dataset /mask                      block: [0, 110, 0, 206]\n",
      "close HDF5 file /tmp/numInvIfgram_coh.h5.\n",
      "--------------------------------------------------\n",
      "update values on the reference pixel: (102, 25)\n",
      "set temporalCoherence on the reference pixel to 1.\n",
      "set  # of observations on the reference pixel as 24\n",
      "time used: 00 mins 0.2 secs.\n",
      "\n"
     ]
    }
   ],
   "source": [
    "mef_phase = stack_obj.get_reference_phase(unwDatasetName='coherence',\n",
    "                                          skip_reference=False,\n",
    "                                          dropIfgram=True)\n",
    "\n",
    "class Inps:\n",
    "    pass\n",
    "inps = Inps()\n",
    "inps.ifgramStackFile = '/data1/data/sar_izmir/mintpy_17/izmir/inputs/ifgramStack.h5'\n",
    "inps.obsDatasetName = 'coherence'\n",
    "inps.minNormVelocity = False\n",
    "inps.minRedundancy = 1\n",
    "inps.weightFunc = 'no'\n",
    "inps.maskDataset= False\n",
    "inps.tsFile = '/tmp/timeseries_coh.h5'\n",
    "inps.invQualityFile = '/tmp/temporalCoherence_coh.h5'\n",
    "inps.numInvFile = '/tmp/numInvIfgram_coh.h5'\n",
    "inps.maskThreshold = 0.0\n",
    "inps.maxMemory = 8 #GB\n",
    "inps.waterMaskFile = False \n",
    "inps.cluster = False\n",
    "inps.skip_ref = False\n",
    "\n",
    "!rm /tmp/timeseries.h5\n",
    "ifgram_inversion.ifgram_inversion(inps)"
   ]
  },
  {
   "cell_type": "code",
   "execution_count": 50,
   "id": "first-andrews",
   "metadata": {},
   "outputs": [],
   "source": [
    "ts_coh_data, atr_cog = mpu.readfile.read(os.path.join('/tmp/','timeseries_coh.h5'))\n",
    "ts_coh_data[1:] += mef_phase[date12_didx].reshape(ts_coh_data.shape[0]-1,1,1)\n",
    "# ts_int_data[1:] -= ts_int_data[:-1]\n",
    "# ts_int_data[1:,:,:] += int_data[date12_didx].mean(axis=(1,2)).reshape(-1,1,1) - ts_int_data[1:].mean(axis=(1,2)).reshape(-1,1,1)"
   ]
  },
  {
   "cell_type": "code",
   "execution_count": 51,
   "id": "statewide-recommendation",
   "metadata": {
    "scrolled": true
   },
   "outputs": [],
   "source": [
    "for r, q in zip(ts_coh_data[1:], coh_data[date12_didx]):\n",
    "    plt.figure(figsize=(12,8))\n",
    "    plt.subplot(121)\n",
    "    plt.imshow(r,interpolation='none')#,vmin=250.00,vmax=400.00)\n",
    "    plt.subplot(122)\n",
    "    plt.imshow(q,interpolation='none')#,vmin=250.00,vmax=400.00)"
   ]
  },
  {
   "cell_type": "code",
   "execution_count": 52,
   "id": "electoral-liabilities",
   "metadata": {},
   "outputs": [],
   "source": [
    "int_anc_ses_db = ts_int_data[anc_dat_idx]\n",
    "int_pre_ses_db = ts_int_data[pre_dat_idx]\n",
    "int_pst_ses_db = ts_int_data[pst_dat_idx]\n",
    "\n",
    "int_anc_ses = (10**(int_anc_ses_db/20))**0.5\n",
    "int_pre_ses = (10**(int_pre_ses_db/20))**0.5\n",
    "int_pst_ses = (10**(int_pst_ses_db/20))**0.5"
   ]
  },
  {
   "cell_type": "code",
   "execution_count": 53,
   "id": "herbal-advocacy",
   "metadata": {},
   "outputs": [
    {
     "data": {
      "text/plain": [
       "(19802173000.0, 45446783000.0, 94862310000.0)"
      ]
     },
     "execution_count": 53,
     "metadata": {},
     "output_type": "execute_result"
    }
   ],
   "source": [
    "int_anc_ses.max(), int_pre_ses.max(), int_pst_ses.max()"
   ]
  },
  {
   "cell_type": "code",
   "execution_count": 54,
   "id": "passive-douglas",
   "metadata": {},
   "outputs": [],
   "source": [
    "coh_pre_ses = ts_coh_data[pre_dat_idx]\n",
    "coh_pst_ses = ts_coh_data[pst_dat_idx]"
   ]
  },
  {
   "cell_type": "code",
   "execution_count": 55,
   "id": "historical-scope",
   "metadata": {},
   "outputs": [
    {
     "data": {
      "text/plain": [
       "(1.0621012, 1.0475427)"
      ]
     },
     "execution_count": 55,
     "metadata": {},
     "output_type": "execute_result"
    }
   ],
   "source": [
    "coh_pre_ses.max(), coh_pst_ses.max()"
   ]
  },
  {
   "cell_type": "code",
   "execution_count": 56,
   "id": "humanitarian-gambling",
   "metadata": {},
   "outputs": [
    {
     "data": {
      "text/plain": [
       "(-3.1415737,\n",
       " 3.1414666,\n",
       " 0.2698992,\n",
       " -3.1371658,\n",
       " 3.1396277,\n",
       " 0.088497534,\n",
       " -3.1411572,\n",
       " 3.1414652,\n",
       " -0.21074769)"
      ]
     },
     "execution_count": 56,
     "metadata": {},
     "output_type": "execute_result"
    }
   ],
   "source": [
    "ts_anc_ses = np.angle(np.exp(1j*ts_data[anc_dat_idx]))\n",
    "ts_pre_ses = np.angle(np.exp(1j*ts_data[pre_dat_idx]))\n",
    "ts_pst_ses = np.angle(np.exp(1j*ts_data[pst_dat_idx]))\n",
    "ts_anc_ses.min(), ts_anc_ses.max(), ts_anc_ses.mean(), \\\n",
    "ts_pre_ses.min(), ts_pre_ses.max(), ts_pre_ses.mean(), \\\n",
    "ts_pst_ses.min(), ts_pst_ses.max(), ts_pst_ses.mean()"
   ]
  },
  {
   "cell_type": "code",
   "execution_count": 57,
   "id": "dominant-machinery",
   "metadata": {},
   "outputs": [],
   "source": [
    "win_size = 5\n",
    "N = win_size**2\n",
    "kern = np.ones((win_size,win_size))"
   ]
  },
  {
   "cell_type": "code",
   "execution_count": 58,
   "id": "honey-sussex",
   "metadata": {},
   "outputs": [
    {
     "data": {
      "text/plain": [
       "(0.5109043, 0.9991737, 0.9777611)"
      ]
     },
     "execution_count": 58,
     "metadata": {},
     "output_type": "execute_result"
    }
   ],
   "source": [
    "coherence_presiesmic_new = np.abs(correlate(slc_anc_int_VV_db*slc_pre_int_VV_db*np.exp(1j*(ts_pre_ses)), kern) \\\n",
    "                     / (np.sqrt(correlate(slc_anc_int_VV_db**2, kern))*np.sqrt(correlate(slc_pre_int_VV_db**2,kern)))\n",
    "                    )\n",
    "coherence_presiesmic_new.min(), coherence_presiesmic_new.max(), coherence_presiesmic_new.mean()"
   ]
  },
  {
   "cell_type": "code",
   "execution_count": 59,
   "id": "creative-ladder",
   "metadata": {},
   "outputs": [],
   "source": [
    "# cos_coh_new = np.abs(correlate(pre_int_VV*pst_int_VV*np.exp(1j*(ts_pst_ses)), weights) \\\n",
    "#                      / (np.sqrt(correlate(pre_int_VV**2, weights))*np.sqrt(correlate(pst_int_VV**2,weights)))\n",
    "#                     )\n",
    "# cos_coh_new.min(), cos_coh_new.max(), cos_coh_new.mean()"
   ]
  },
  {
   "cell_type": "code",
   "execution_count": 60,
   "id": "utility-collection",
   "metadata": {},
   "outputs": [],
   "source": [
    "cpr_lst = []\n",
    "for i in range(1,ts_data.shape[0]-1):\n",
    "    tps = np.angle(np.exp(1j*ts_data[i+1]))\n",
    "    ipsd = ts_int_data[i+1]\n",
    "    iasd = ts_int_data[i]\n",
    "    cpr = np.abs(correlate(ipsd*np.exp(1j*(tps)), kern) \\\n",
    "                     / (np.sqrt(correlate(iasd, kern))*np.sqrt(correlate(ipsd,kern))) )\n",
    "    cpr_lst.append(cpr)\n",
    "coherence_reconstucted = np.asarray(cpr_lst)"
   ]
  },
  {
   "cell_type": "code",
   "execution_count": 61,
   "id": "middle-necklace",
   "metadata": {},
   "outputs": [
    {
     "data": {
      "text/plain": [
       "(0.524838, 1.005529, 0.96863174, 0.5855913, 1.0038806, 0.9526359)"
      ]
     },
     "execution_count": 61,
     "metadata": {},
     "output_type": "execute_result"
    }
   ],
   "source": [
    "coherence_presiesmic_rec = coherence_reconstucted[-2]\n",
    "coherence_co_siesmic_rec = coherence_reconstucted[-1]\n",
    "coherence_presiesmic_rec.min(), coherence_presiesmic_rec.max(), coherence_presiesmic_rec.mean(), \\\n",
    "coherence_co_siesmic_rec.min(), coherence_co_siesmic_rec.max(), coherence_co_siesmic_rec.mean()"
   ]
  },
  {
   "cell_type": "code",
   "execution_count": 62,
   "id": "neutral-mitchell",
   "metadata": {},
   "outputs": [],
   "source": [
    "subrec_ifgram, include = getSubRecIgram(ts_rec, atr_rec, pre_dat_idx)\n",
    "ifgram_diff = ifgram[include].reshape(subrec_ifgram.shape) - subrec_ifgram\n",
    "inv_quality = np.abs(np.sum(np.exp(1j*ifgram_diff), axis=0))/include.sum()\n",
    "tem_pre_coh = inv_quality.reshape(ts.shape[1:3])"
   ]
  },
  {
   "cell_type": "code",
   "execution_count": 63,
   "id": "fifth-salmon",
   "metadata": {},
   "outputs": [],
   "source": [
    "# subrec_ifgram, include = getSubRecIgram(ts_rec, atr_rec, pst_dat_idx)\n",
    "# ifgram_diff = ifgram[include].reshape(subrec_ifgram.shape) - subrec_ifgram\n",
    "# inv_quality = np.abs(np.sum(np.exp(1j*ifgram_diff), axis=0))/include.sum()\n",
    "# tem_cos_coh = inv_quality.reshape(ts.shape[1:3])"
   ]
  },
  {
   "cell_type": "code",
   "execution_count": 64,
   "id": "public-dominican",
   "metadata": {},
   "outputs": [],
   "source": [
    "# ts_int_data_lst = []\n",
    "# win_size = 5\n",
    "# for c in ts_int_data:\n",
    "#     int_data_norm = c.copy()    \n",
    "#     if c.min() != c.max():        \n",
    "#         int_data_norm -= int_data_norm.min()\n",
    "#         int_data_norm /= int_data_norm.max()\n",
    "#     ts_int_data_lst.append( correlate(int_data_norm, np.ones((win_size,win_size))/(win_size**2)) )\n",
    "# ts_int_data_smt = np.asarray(ts_int_data_lst)"
   ]
  },
  {
   "cell_type": "code",
   "execution_count": 65,
   "id": "velvet-broadcasting",
   "metadata": {},
   "outputs": [],
   "source": [
    "ts_coh_data_lst = []\n",
    "for c in ts_coh_data:\n",
    "    ts_coh_data_lst.append(  correlate(c, np.ones((win_size,win_size))/(win_size**2)) )\n",
    "ts_coh_data_smt = np.asarray(ts_coh_data_lst)"
   ]
  },
  {
   "cell_type": "code",
   "execution_count": 66,
   "id": "greatest-conspiracy",
   "metadata": {},
   "outputs": [],
   "source": [
    "dmps = {}"
   ]
  },
  {
   "cell_type": "markdown",
   "id": "enhanced-holder",
   "metadata": {},
   "source": [
    "### Use of Interferometric Satellite SAR for Earthquake Damage Detection\n",
    "(2000) \n",
    "Masashi Matsuoka and Fumio Yamazak\n",
    "[[paper]](http://citeseerx.ist.psu.edu/viewdoc/summary?doi=10.1.1.569.7026)\n",
    "\n",
    "___This paper just proposes an recipe of sorts but is not reproducible___\n",
    "\n",
    "$$\n",
    "\\hat\\gamma = \\frac{|\\sum_{\\Omega}u^{pre}\\cdot {u^{cos}}^*|}{\\sqrt{\\sum_{\\Omega}|u^{pre}|^2 \\sum_{\\Omega}|u^{cos}|^2 } }\n",
    "$$"
   ]
  },
  {
   "cell_type": "markdown",
   "id": "approximate-clearance",
   "metadata": {},
   "source": [
    "### Decorrelation of SAR data by urban damages caused by the 1995 Hyogoken-nanbu earthquake\n",
    "(2001)\n",
    "C. Yonezawa and S. Takeuchi\n",
    "[[paper]](https://www.tandfonline.com/doi/pdf/10.1080/01431160118187?needAccess=true)\n",
    "\n",
    "GRD > Apply Orbit > rm Thermal Noise > rm Border Noise > Calibration > Multilooking 2x2 > Coregistration > Speckle Filter lee 7x7 > Range Doppler Terrain Correct > Subset\n",
    "\n",
    "__Uses a Normalized Difference Index similar to NDVI__\n",
    "\n",
    "Pre-Siesmic Normalised Wide Sense Stationary Cross Correlation\n",
    "$$\n",
    "\\rho_{WSS}^{pre} = \\frac{|\\sum_{\\Omega}I^{anc}{I^{pre}}|}{\\sqrt{\\sum_{\\Omega}(I^{anc})^2 \\sum_{\\Omega}(I^{pre})^2}}\n",
    "$$\n",
    "\n",
    "Co-Siesmic Normalised Wide Sense Stationary Cross Correlation\n",
    "$$\n",
    "\\rho_{WSS}^{cos} = \\frac{|\\sum_{\\Omega}I^{pre}{I^{pst}}|}{\\sqrt{\\sum_{\\Omega}(I^{pre})^2 \\sum_{\\Omega}(I^{pst})^2}}\n",
    "$$\n",
    "\n",
    "$$\n",
    "ND\\rho_{WSS} = \\frac{\\rho_{WSS}^{pre} - \\rho_{WSS}^{cos}}{\\rho_{WSS}^{pre} + \\rho_{WSS}^{cos}}\n",
    "$$"
   ]
  },
  {
   "cell_type": "code",
   "execution_count": 67,
   "id": "wanted-stockholm",
   "metadata": {},
   "outputs": [
    {
     "data": {
      "text/plain": [
       "(-13.41554, 264.4586)"
      ]
     },
     "execution_count": 67,
     "metadata": {},
     "output_type": "execute_result"
    }
   ],
   "source": [
    "sigma0 = rasterio.open('/data1/data/sar_izmir/izmir_data/Subset_20201012_1024_1105_Orb_Thm_Bdr_Cal_ML_Stack_Spk_TC.tif')\n",
    "anc_sigma0 = sigma0.read(3, out_shape=(110, 206),resampling=Resampling.bilinear) #DB Intensity\n",
    "pre_sigma0 = sigma0.read(1, out_shape=(110, 206),resampling=Resampling.bilinear) #DB Intensity\n",
    "pst_sigma0 = sigma0.read(2, out_shape=(110, 206),resampling=Resampling.bilinear) #DB Intensity\n",
    "pre_sigma0.min(), pre_sigma0.max()"
   ]
  },
  {
   "cell_type": "code",
   "execution_count": 68,
   "id": "broadband-jordan",
   "metadata": {},
   "outputs": [],
   "source": [
    "pres_rho_I_sigma0 = np.abs(correlate(anc_sigma0*pre_sigma0,kern/N))/ \\\n",
    "                    np.sqrt(correlate(anc_sigma0**2,kern/N)*correlate(pre_sigma0**2,kern/N))\n",
    "coss_rho_I_sigma0 = np.abs(correlate(pre_sigma0*pst_sigma0,kern/N))/ \\\n",
    "                    np.sqrt(correlate(pre_sigma0**2,kern/N)*correlate(pst_sigma0**2,kern/N))\n",
    "norm_diff_index_rho_I_sigma0 = (pres_rho_I_sigma0 - coss_rho_I_sigma0)/(pres_rho_I_sigma0 + coss_rho_I_sigma0)\n",
    "# dmps['Yonezawa'] = norm_diff_index_rho_I_sigma0"
   ]
  },
  {
   "cell_type": "markdown",
   "id": "indian-privilege",
   "metadata": {},
   "source": [
    "### Use of Satellite SAR Intensity Imagery for Detecting Building Areas Damaged Due to Earthquakes\n",
    "(2004) Masashi Matsuoka, and Fumio Yamazaki \n",
    "[[paper]](https://www.researchgate.net/profile/F-Yamazaki/publication/241436946_Use_of_Satellite_SAR_Intensity_Imagery_for_Detecting_Building_Areas_Damaged_Due_to_Earthquakes/links/0c960528387c20fef2000000/Use-of-Satellite-SAR-Intensity-Imagery-for-Detecting-Building-Areas-Damaged-Due-to-Earthquakes.pdf)\n",
    "\n",
    "GRD > Apply Orbit > rm Thermal Noise > rm Border Noise > Calibration > Multilooking 2x2 > Coregistration > Speckle Filter lee 7x7 > Range Doppler Terrain Correct > Subset\n",
    "\n",
    "__Uses difference in $\\sigma_0$ intensity (dB)__\n",
    "$$\n",
    "d^i = 10\\cdot\\log_{10}(\\bar{I^{pre}_i}) - 10\\cdot\\log_{10}(\\bar{I^{cos}_i})\n",
    "$$\n",
    "\n",
    "Co-Siesmic Normalised Cross Correlation\n",
    "$$\n",
    "\\rho_N^{cos} = \\frac{N\\sum_{\\Omega}(I^{pre}I^{pst}) - (\\sum_{\\Omega}I^{pre}\\sum_{\\Omega}I^{pst}) }{\\sqrt{\\sum_{\\Omega}(I^{pre})^2 - (\\sum_{\\Omega}I^{pre})^2}\\sqrt{\\sum_{\\Omega}(I^{pst})^2 - (\\sum_{\\Omega}I^{pst})^2}}\n",
    "$$"
   ]
  },
  {
   "cell_type": "code",
   "execution_count": 69,
   "id": "attractive-spelling",
   "metadata": {},
   "outputs": [],
   "source": [
    "win_size_m = 5\n",
    "N_m = win_size_m**2\n",
    "kern_m = np.ones((win_size_m,win_size_m))\n",
    "\n",
    "pre_sigma0_mu = correlate(pre_sigma0,kern_m/N_m)\n",
    "pst_sigma0_mu = correlate(pst_sigma0,kern_m/N_m)\n",
    "r_sigma0 = (N_m*correlate(pre_sigma0*pst_sigma0,kern_m)-correlate(pre_sigma0,kern_m)*correlate(pst_sigma0,kern_m))/ \\\n",
    "           np.sqrt(\n",
    "                (N_m*correlate(pre_sigma0**2,kern_m) - correlate(pre_sigma0,kern_m)**2)*\n",
    "                (N_m*correlate(pst_sigma0**2,kern_m) - correlate(pst_sigma0,kern_m)**2))\n",
    "d_sigma0 = (pre_sigma0_mu - pst_sigma0_mu)"
   ]
  },
  {
   "cell_type": "code",
   "execution_count": 70,
   "id": "infrared-horse",
   "metadata": {},
   "outputs": [],
   "source": [
    "from sklearn.discriminant_analysis import LinearDiscriminantAnalysis as LDA\n",
    "X = np.c_[toMaskDims(d_sigma0, ye, xe).flatten(),toMaskDims(r_sigma0,ye,xe).flatten()]\n",
    "y = destroyed_mask.flatten()\n",
    "clf = LDA(solver='lsqr', shrinkage=None).fit(X, y)\n",
    "# clf.coef_\n",
    "# dmps['Matsuoka'] = clf.coef_[0,0]*d_sigma0 + clf.coef_[0,1]*r_sigma0"
   ]
  },
  {
   "cell_type": "markdown",
   "id": "balanced-quantum",
   "metadata": {},
   "source": [
    "### Coherence- and Amplitude-Based Analysis of Seismogenic Damage in Bam, Iran, Using ENVISAT ASAR Data\n",
    "(2006)\n",
    "Gustavo A. Arciniegas, Wietske Bijker, Norman Kerle, and Valentyn A. Tolpekin\n",
    "[[paper]](https://ieeexplore.ieee.org/abstract/document/4244569/)\n",
    "\n",
    "GRD > Apply Orbit > rm Thermal Noise > rm Border Noise > Calibration > Multilooking 2x2 > Coregistration > Speckle Filter lee 7x7 > Range Doppler Terrain Correct > Subset\n",
    "\n",
    "___This paper just proposes an recipe of sorts but is not reproducible___\n",
    "\n",
    "$$\n",
    "\\Delta\\hat\\gamma = \\hat\\gamma^{pre} - \\hat\\gamma^{cos}\n",
    "$$"
   ]
  },
  {
   "cell_type": "code",
   "execution_count": 71,
   "id": "advisory-merchandise",
   "metadata": {},
   "outputs": [],
   "source": [
    "coh_data_cor = []\n",
    "for c in coh_data[date12_didx]:\n",
    "    coh_data_cor.append(  correlate(c, np.ones((win_size,win_size))/(win_size**2)) )\n",
    "coh_data_cor = np.asarray(coh_data_cor)"
   ]
  },
  {
   "cell_type": "code",
   "execution_count": 72,
   "id": "functional-voice",
   "metadata": {},
   "outputs": [],
   "source": [
    "coherence_preseismic = coh_data_cor[-2]\n",
    "coherence_co_siesmic = coh_data_cor[-1]\n",
    "coherence_difference =  coherence_preseismic - coherence_co_siesmic\n",
    "# dmps['$\\Delta$coherence'] = coherence_difference"
   ]
  },
  {
   "cell_type": "code",
   "execution_count": 73,
   "id": "cda277e3",
   "metadata": {},
   "outputs": [],
   "source": [
    "mag_data_cor = []\n",
    "for m in magnitude[date12_didx]:\n",
    "    mag_data_cor.append( correlate(m,kern/N) )\n",
    "mag_data_cor = np.asarray(mag_data_cor)\n",
    "magnitude_preseismic = mag_data_cor[-2]\n",
    "magnitude_co_siesmic = mag_data_cor[-1]"
   ]
  },
  {
   "cell_type": "markdown",
   "id": "mysterious-israeli",
   "metadata": {},
   "source": [
    "### Mapping damage during the Bam (Iran) earthquake using interferometric coherence\n",
    "(2007)\n",
    "J. Hoffmann\n",
    "[[paper]](https://www.researchgate.net/profile/Joern-Hoffmann-3/publication/233184555_Mapping_damage_during_the_Bam_Iran_earthquake_using_interferometric_coherence/links/556f163808aeccd77741095c/Mapping-damage-during-the-Bam-Iran-earthquake-using-interferometric-coherence.pdf)\n",
    "\n",
    "GRD > Apply Orbit > rm Thermal Noise > rm Border Noise > Calibration > Multilooking 2x2 > Coregistration > Speckle Filter lee 7x7 > Range Doppler Terrain Correct > Subset"
   ]
  },
  {
   "cell_type": "code",
   "execution_count": 74,
   "id": "protecting-bumper",
   "metadata": {},
   "outputs": [],
   "source": [
    "coherence_ratio = coherence_preseismic/coherence_co_siesmic\n",
    "dmps['Hoffmann'] = coherence_ratio"
   ]
  },
  {
   "cell_type": "markdown",
   "id": "duplicate-comparison",
   "metadata": {},
   "source": [
    "### Extracting damages caused by the 2008 Ms 8.0 Wenchuan earthquake from SAR remote sensing data\n",
    "(2011)\n",
    "Yanfang Donga; Qi Li; Aixia Doua and XiaoqingWanga\n",
    "[[paper]](https://www.sciencedirect.com/science/article/pii/S1367912010002282?via%3Dihub)\n",
    "\n",
    "GRD > Apply Orbit > rm Thermal Noise > rm Border Noise > Calibration > Multilooking 2x2 > Coregistration > Speckle Filter lee 7x7 > Range Doppler Terrain Correct > Subset\n",
    "\n",
    "__This paper is the most clear in that we are using $\\sigma_0$ (dB) replicates results of Arciniegas(2006) more reproducible__"
   ]
  },
  {
   "cell_type": "markdown",
   "id": "fluid-integral",
   "metadata": {},
   "source": [
    "### Building Damage Assessment Using Multisensor Dual-Polarized Synthetic Aperture Radar Data for the 2016 M 6.2 Amatrice Earthquake, Italy\n",
    "(2017)\n",
    "Sadra Karimzadeh and Masashi Mastuoka\n",
    "[[paper]](https://www.mdpi.com/2072-4292/9/4/330/htm)\n",
    "\n",
    "__Uses a Normalised Difference__\n",
    "\n",
    "$$\n",
    "|\\hat{d}_i^{pol}| = \\frac{|d_i^{pol}| - \\min(|d_i|)}{\\max(|d_{j}|) - \\min(|d_{j}|)}\n",
    "$$\n",
    "\n",
    "$$\n",
    "|\\bar{d}| = \\frac{1}{2}(|\\hat{d}^{VV}| + |\\hat{d}^{VH}|)\n",
    "$$\n",
    "\n",
    "\n",
    "$$\n",
    "|\\hat{c}_i^{pol}| = \\frac{|\\Delta\\hat\\gamma_{i}| - \\min(|\\Delta\\hat\\gamma_{j}|)}{\\max(|\\Delta\\hat\\gamma_{j}|) - \\min(|\\Delta\\hat\\gamma_{j}|)}\n",
    "$$\n",
    "\n",
    "$$\n",
    "|\\bar{c}| = \\frac{1}{2}(|\\hat{c}^{VV}| + |\\hat{c}^{VH}|)\n",
    "$$\n",
    "\n",
    "$$\n",
    "|\\bar{c}_r| = \\frac{3}{5}|\\hat{c}^{VV}| + \\frac{2}{5}|\\hat{c}^{VH}|\n",
    "$$\n",
    "\n"
   ]
  },
  {
   "cell_type": "code",
   "execution_count": 75,
   "id": "conditional-formula",
   "metadata": {},
   "outputs": [],
   "source": [
    "sigma0 = rasterio.open('/data1/data/sar_izmir/izmir_data/Subset_20201012_1024_1105_Orb_Thm_Bdr_Cal_ML_Stack_Spk_TC_VH.tif')\n",
    "anc_sigma0_VH = sigma0.read(3, out_shape=(110, 206),resampling=Resampling.bilinear) #DB Intensity\n",
    "pre_sigma0_VH = sigma0.read(1, out_shape=(110, 206),resampling=Resampling.bilinear) #DB Intensity\n",
    "pst_sigma0_VH = sigma0.read(2, out_shape=(110, 206),resampling=Resampling.bilinear) #DB Intensity"
   ]
  },
  {
   "cell_type": "code",
   "execution_count": 76,
   "id": "finnish-russell",
   "metadata": {},
   "outputs": [],
   "source": [
    "pre_sigma0_VV_mu = correlate(pre_sigma0,kern/N)\n",
    "pst_sigma0_VV_mu = correlate(pst_sigma0,kern/N)\n",
    "d_sigma0_VV = (pre_sigma0_VV_mu - pst_sigma0_VV_mu)\n",
    "nd_sigma0_VV = (d_sigma0_VV - np.min(d_sigma0_VV))/(np.max(d_sigma0_VV) - np.min(d_sigma0_VV))\n",
    "\n",
    "pre_sigma0_VH_mu = correlate(pre_sigma0_VH,kern/N)\n",
    "pst_sigma0_VH_mu = correlate(pst_sigma0_VH,kern/N)\n",
    "d_sigma0_VH = (pre_sigma0_VH_mu - pst_sigma0_VH_mu)\n",
    "nd_sigma0_VH = (d_sigma0_VH - np.min(d_sigma0_VH))/(np.max(d_sigma0_VH) - np.min(d_sigma0_VH))\n",
    "\n",
    "nd_VV_VH = 0.5*(nd_sigma0_VV + nd_sigma0_VH)\n",
    "nd_cd = (coherence_difference - np.min(coherence_difference))/(np.max(coherence_difference) - np.min(coherence_difference)) "
   ]
  },
  {
   "cell_type": "code",
   "execution_count": 77,
   "id": "sapphire-villa",
   "metadata": {},
   "outputs": [],
   "source": [
    "X = np.c_[toMaskDims(nd_VV_VH, ye, xe).flatten(),toMaskDims(nd_cd,ye,xe).flatten()]\n",
    "y = destroyed_mask.flatten()\n",
    "clf = LDA(solver='lsqr', shrinkage=None).fit(X, y)\n",
    "clf.coef_\n",
    "dmps['Karimzadeh'] = clf.coef_[0,0]*nd_VV_VH + clf.coef_[0,1]*nd_cd"
   ]
  },
  {
   "cell_type": "markdown",
   "id": "accessible-throat",
   "metadata": {},
   "source": [
    "###  Coherence Difference Analysis of Sentinel-1 SAR Interferogram to Identify Earthquake-Induced Disasters in Urban Areas\n",
    "(2018)\n",
    "Chih-Heng Lu, Chuen-Fa Ni, Chung-Pai Chang, Jiun-Yee Yen and Ray Y. Chuang\n",
    "[[paper]](https://www.mdpi.com/2072-4292/10/8/1318/htm)"
   ]
  },
  {
   "cell_type": "code",
   "execution_count": 78,
   "id": "automated-cheese",
   "metadata": {},
   "outputs": [],
   "source": [
    "hist = (coh_data_cor[:-2] - coherence_preseismic)\n",
    "hist_men = hist.mean(axis=0)\n",
    "hist_std = hist.std(axis=0)\n",
    "dmps['Lu'] = (hist_men + 3*hist_std) - (coherence_co_siesmic - coherence_preseismic)"
   ]
  },
  {
   "cell_type": "markdown",
   "id": "preceding-swaziland",
   "metadata": {},
   "source": [
    "### Ours\n",
    "(2021)\n",
    "Terence and Turgay\n",
    "[[paper]]()\n",
    "\n",
    "Apply STile2Vec"
   ]
  },
  {
   "cell_type": "code",
   "execution_count": 79,
   "id": "2a8181f3",
   "metadata": {},
   "outputs": [],
   "source": [
    "# coherence_lesser_mask = (coh_data_cor[:-1].mean(axis=0) + 0.1*coh_data_cor[:-1].std(axis=0)) > coherence_co_siesmic\n",
    "# coherence_lesser_mask = (coh_data_cor[:-1].mean(axis=0)>coherence_co_siesmic)*2 - 1\n",
    "# coherence_lesser_mask = coh_data_cor[:-1].mean(axis=0)/coherence_co_siesmic\n",
    "coherence_lesser_mask = (coh_data_cor[:-1].mean(axis=0)-coherence_co_siesmic)\n",
    "dmps['$\\Delta$coherence'] = (coh_data_cor[:-1].mean(axis=0)-coherence_co_siesmic)\n",
    "dmps['$\\Sigma$coherence'] = (coh_data_cor[:-1].mean(axis=0)/coherence_co_siesmic)\n",
    "# coherence_lesser_mask = coherence_preseismic > coherence_co_siesmic\n",
    "# dmps['$\\Delta$magnitude'] = np.abs(magnitude_preseismic - magnitude_co_siesmic)\n",
    "# dmps['$\\Delta$intensity'] = np.abs(pre_sigma0_VV_mu - pst_sigma0_VV_mu) #*coherence_lesser_mask"
   ]
  },
  {
   "cell_type": "code",
   "execution_count": 80,
   "id": "20d66f4c",
   "metadata": {},
   "outputs": [],
   "source": [
    "tile2vec = np.load(os.path.join(mintpydir,\"tile2vec.npy\"))\n",
    "# dmps['Tile2Vec'] = tile2vec\n",
    "dmps['Tile2Vec(M)'] = tile2vec*coherence_lesser_mask\n",
    "\n",
    "stile2vec = np.load(os.path.join(mintpydir,\"stile2vec.npy\"))\n",
    "dmps['STile2Vec'] = stile2vec\n",
    "dmps['STile2Vec(M)'] = stile2vec*coherence_lesser_mask\n",
    "stile2vec = dmps['STile2Vec(M)']\n",
    "\n",
    "# fpe2vec = np.load(os.path.join(mintpydir,\"fpe2vec.npy\"))\n",
    "# dmps['FocalPointEncoder'] = fpe2vec\n",
    "\n",
    "ae2vec = np.load(os.path.join(mintpydir,\"ae2vec.npy\"))\n",
    "# dmps['AutoEncoder'] = ae2vec\n",
    "dmps['AutoEncoder(M)'] = ae2vec*coherence_lesser_mask\n",
    "# ae2vec = dmps['AutoEncoder(M)']"
   ]
  },
  {
   "cell_type": "code",
   "execution_count": null,
   "id": "51c32434",
   "metadata": {},
   "outputs": [],
   "source": []
  },
  {
   "cell_type": "code",
   "execution_count": 81,
   "id": "638faffd",
   "metadata": {},
   "outputs": [],
   "source": [
    "# colours = ['C%s'%i for i in range(1,8)]\n",
    "# labels= []\n",
    "# fig = plt.figure(figsize=(width*1.5,height*1.5))\n",
    "# ax1 = fig.subplots()\n",
    "# i = 0\n",
    "# for k, dmp in dmps.items():    \n",
    "#     dmp_ups = dmp.repeat(2,axis=0).repeat(2,axis=1)[ye,xe]\n",
    "#     x,y = ROC(dmp_ups, destroyed_mask)\n",
    "#     dx =  np.zeros(x.shape)\n",
    "#     dx[:-1] = x[1:]-x[:-1]\n",
    "#     labels.append('AUC: {:0.3f} {} '.format((dx*y).sum(),k))\n",
    "#     if k in ['AutoEncoder', 'Siamese Network']:\n",
    "#         sns.lineplot(x=x, y=y, marker=None, color=colours[i], ax=ax1, linewidth = 2.0);\n",
    "#     else:\n",
    "#         sns.lineplot(x=x, y=y, marker=None, color=colours[i], ax=ax1, alpha=0.5);\n",
    "#     i += 1\n",
    "    \n",
    "# ax1.set_ylabel(\"TPR\")\n",
    "# plt.legend(ax1.lines, labels, loc='lower right')\n",
    "# sns.despine(right=True, trim=False)\n",
    "# ax1.set_xlabel(\"FPR\")\n",
    "# fig.tight_layout()\n",
    "# fig.savefig(\"pgf/auc_destroyed.pgf\", backend='pgf', dpi=600)\n",
    "# # fig"
   ]
  },
  {
   "cell_type": "code",
   "execution_count": 82,
   "id": "8d9c3c6b",
   "metadata": {},
   "outputs": [],
   "source": [
    "# colours = ['C%s'%i for i in range(1,8)]\n",
    "# labels= []\n",
    "# fig = plt.figure(figsize=(width*1.5,height*1.5))\n",
    "# ax1 = fig.subplots()\n",
    "# i = 0\n",
    "# for k, dmp in dmps.items():    \n",
    "#     dmp_ups = dmp.repeat(2,axis=0).repeat(2,axis=1)[ye,xe]\n",
    "#     x,y = ROC(dmp_ups, pestroyed_mask)\n",
    "#     dx =  np.zeros(x.shape)\n",
    "#     dx[:-1] = x[1:]-x[:-1]\n",
    "#     labels.append('AUC: {:0.3f} {} '.format((dx*y).sum(),k))\n",
    "#     if k in ['AutoEncoder', 'Siamese Network']:\n",
    "#         sns.lineplot(x=x, y=y, marker=None, color=colours[i], ax=ax1, linewidth = 2.0);\n",
    "#     else:\n",
    "#         sns.lineplot(x=x, y=y, marker=None, color=colours[i], ax=ax1, alpha=0.5);\n",
    "#     i += 1\n",
    "    \n",
    "# ax1.set_ylabel(\"TPR\")\n",
    "# plt.legend(ax1.lines, labels, loc='lower right')\n",
    "# sns.despine(right=True, trim=False)\n",
    "# ax1.set_xlabel(\"FPR\")\n",
    "# fig.tight_layout()\n",
    "# fig.savefig(\"pgf/auc_pdestroyed.pgf\", backend='pgf', dpi=600)\n",
    "# # fig"
   ]
  },
  {
   "cell_type": "code",
   "execution_count": 83,
   "id": "northern-preference",
   "metadata": {
    "scrolled": false
   },
   "outputs": [
    {
     "data": {
      "image/png": "[encoded data removed]",
      "text/plain": [
       "<Figure size 576x576 with 1 Axes>"
      ]
     },
     "execution_count": 83,
     "metadata": {},
     "output_type": "execute_result"
    }
   ],
   "source": [
    "fig = plt.figure(figsize=(8,8))\n",
    "for k, dmp in dmps.items():\n",
    "    dmp_ups = dmp.repeat(2,axis=0).repeat(2,axis=1)[ye,xe]\n",
    "    x,y = ROC(dmp_ups, destroyed_mask)\n",
    "    dx =  np.zeros(x.shape)\n",
    "    dx[:-1] = x[1:]-x[:-1]\n",
    "    plt.plot(x,y,label='AUC: {:.3f} {} '.format((dx*y).sum(),k), marker='', \n",
    "             linewidth=2.5 if k in ['AutoEncoder(M)', 'Tile2Vec(M)', 'STile2Vec(M)'] else 0.5 );\n",
    "plt.legend(fontsize='x-large');\n",
    "fig"
   ]
  },
  {
   "cell_type": "code",
   "execution_count": 84,
   "id": "74d5fe55",
   "metadata": {
    "scrolled": false
   },
   "outputs": [
    {
     "name": "stderr",
     "output_type": "stream",
     "text": [
      "<ipython-input-84-32ac3602f696>:1: RuntimeWarning: More than 20 figures have been opened. Figures created through the pyplot interface (`matplotlib.pyplot.figure`) are retained until explicitly closed and may consume too much memory. (To control this warning, see the rcParam `figure.max_open_warning`).\n",
      "  fig = plt.figure(figsize=(8,8))\n"
     ]
    },
    {
     "data": {
      "image/png": "[encoded data removed]",
      "text/plain": [
       "<Figure size 576x576 with 1 Axes>"
      ]
     },
     "execution_count": 84,
     "metadata": {},
     "output_type": "execute_result"
    }
   ],
   "source": [
    "fig = plt.figure(figsize=(8,8))\n",
    "for k, dmp in dmps.items():\n",
    "    dmp_ups = dmp.repeat(2,axis=0).repeat(2,axis=1)[ye,xe]\n",
    "    x,y = ROC(dmp_ups, pestroyed_mask)\n",
    "    dx =  np.zeros(x.shape)\n",
    "    dx[:-1] = x[1:]-x[:-1]\n",
    "    plt.plot(x,y,label='AUC:{:0.3f} {} '.format((dx*y).sum(),k), marker='', \n",
    "             linewidth=2.5 if k in ['AutoEncoder(M)', 'Tile2Vec(M)', 'STile2Vec(M)'] else 0.5 );\n",
    "plt.legend(fontsize='x-large');\n",
    "fig"
   ]
  },
  {
   "cell_type": "code",
   "execution_count": 85,
   "id": "continuing-invention",
   "metadata": {
    "scrolled": false
   },
   "outputs": [
    {
     "data": {
      "image/png": "[encoded data removed]",
      "text/plain": [
       "<Figure size 576x576 with 1 Axes>"
      ]
     },
     "execution_count": 85,
     "metadata": {},
     "output_type": "execute_result"
    }
   ],
   "source": [
    "fig = plt.figure(figsize=(8,8))\n",
    "for k, dmp in dmps.items():\n",
    "    dmp_ups = dmp.repeat(2,axis=0).repeat(2,axis=1)[ye,xe]\n",
    "    x,y = ROC(dmp_ups, damage_mask)\n",
    "    dx =  np.zeros(x.shape)\n",
    "    dx[:-1] = x[1:]-x[:-1]\n",
    "    plt.plot(x,y,label='AUC:{:0.3f} {} '.format((dx*y).sum(),k), marker='', \n",
    "             linewidth=2.5 if k in ['AutoEncoder(M)', 'Tile2Vec(M)', 'STile2Vec(M)'] else 0.5 );\n",
    "plt.legend(fontsize='x-large');\n",
    "fig"
   ]
  },
  {
   "cell_type": "code",
   "execution_count": 86,
   "id": "5679a4a1",
   "metadata": {},
   "outputs": [
    {
     "data": {
      "image/png": "[encoded data removed]",
      "text/plain": [
       "<Figure size 460.8x316.8 with 1 Axes>"
      ]
     },
     "execution_count": 86,
     "metadata": {},
     "output_type": "execute_result"
    }
   ],
   "source": [
    "fig = plt.figure()\n",
    "plt.hist(stile2vec.flatten())\n",
    "fig"
   ]
  },
  {
   "cell_type": "code",
   "execution_count": 87,
   "id": "10611689",
   "metadata": {},
   "outputs": [
    {
     "data": {
      "image/png": "[encoded data removed]",
      "text/plain": [
       "<Figure size 1152x720 with 1 Axes>"
      ]
     },
     "execution_count": 87,
     "metadata": {},
     "output_type": "execute_result"
    }
   ],
   "source": [
    "fig = plt.figure(figsize=(16, 10))\n",
    "dmp = (stile2vec>0.14)\n",
    "dmp_ups = dmp.repeat(2,axis=0).repeat(2,axis=1)[ye,xe]\n",
    "plt.imshow(destroyed_mask+2*dmp_ups, cmap='Set2', interpolation='none')\n",
    "fig"
   ]
  },
  {
   "cell_type": "code",
   "execution_count": 88,
   "id": "ad65eafc",
   "metadata": {},
   "outputs": [
    {
     "data": {
      "image/png": "[encoded data removed]",
      "text/plain": [
       "<Figure size 1152x720 with 1 Axes>"
      ]
     },
     "execution_count": 88,
     "metadata": {},
     "output_type": "execute_result"
    }
   ],
   "source": [
    "fig = plt.figure(figsize=(16, 10))\n",
    "dmp = (stile2vec>0.14)\n",
    "dmp_ups = dmp.repeat(2,axis=0).repeat(2,axis=1)[ye,xe]\n",
    "plt.imshow(pestroyed_mask+2*dmp_ups, cmap='Set2', interpolation='none')\n",
    "fig"
   ]
  },
  {
   "cell_type": "code",
   "execution_count": 89,
   "id": "3ef234c6",
   "metadata": {},
   "outputs": [
    {
     "data": {
      "image/png": "[encoded data removed]",
      "text/plain": [
       "<Figure size 1152x720 with 1 Axes>"
      ]
     },
     "execution_count": 89,
     "metadata": {},
     "output_type": "execute_result"
    }
   ],
   "source": [
    "fig = plt.figure(figsize=(16, 10))\n",
    "dmp = (stile2vec>0.11)\n",
    "dmp_ups = dmp.repeat(2,axis=0).repeat(2,axis=1)[ye,xe]\n",
    "plt.imshow(damage_mask+2*dmp_ups, cmap='Set2', interpolation='none')\n",
    "fig"
   ]
  },
  {
   "cell_type": "code",
   "execution_count": 90,
   "id": "0aa398d4",
   "metadata": {},
   "outputs": [
    {
     "data": {
      "image/png": "[encoded data removed]",
      "text/plain": [
       "<Figure size 460.8x316.8 with 1 Axes>"
      ]
     },
     "execution_count": 90,
     "metadata": {},
     "output_type": "execute_result"
    }
   ],
   "source": [
    "fig = plt.figure()\n",
    "plt.hist(dmps['Lu'].flatten())\n",
    "fig"
   ]
  },
  {
   "cell_type": "code",
   "execution_count": 91,
   "id": "38f25838",
   "metadata": {},
   "outputs": [
    {
     "data": {
      "image/png": "[encoded data removed]",
      "text/plain": [
       "<Figure size 1152x720 with 1 Axes>"
      ]
     },
     "execution_count": 91,
     "metadata": {},
     "output_type": "execute_result"
    }
   ],
   "source": [
    "fig = plt.figure(figsize=(16, 10))\n",
    "dmp = (dmps['Lu']>0.3)\n",
    "dmp_ups = dmp.repeat(2,axis=0).repeat(2,axis=1)[ye,xe]\n",
    "plt.imshow(damage_mask+2*dmp_ups, cmap='Set2', interpolation='none')\n",
    "fig"
   ]
  },
  {
   "cell_type": "code",
   "execution_count": 92,
   "id": "537a0fe4",
   "metadata": {},
   "outputs": [
    {
     "data": {
      "image/png": "[encoded data removed]",
      "text/plain": [
       "<Figure size 460.8x316.8 with 1 Axes>"
      ]
     },
     "execution_count": 92,
     "metadata": {},
     "output_type": "execute_result"
    }
   ],
   "source": [
    "fig = plt.figure()\n",
    "plt.imshow(ae2vec)\n",
    "fig"
   ]
  },
  {
   "cell_type": "code",
   "execution_count": null,
   "id": "d6ad6e02",
   "metadata": {},
   "outputs": [],
   "source": []
  },
  {
   "cell_type": "code",
   "execution_count": null,
   "id": "928c35ec",
   "metadata": {},
   "outputs": [],
   "source": []
  },
  {
   "cell_type": "code",
   "execution_count": null,
   "id": "ec4f1fa8",
   "metadata": {},
   "outputs": [],
   "source": []
  },
  {
   "cell_type": "code",
   "execution_count": null,
   "id": "edfc53d9",
   "metadata": {},
   "outputs": [],
   "source": []
  },
  {
   "cell_type": "code",
   "execution_count": null,
   "id": "a65909e5",
   "metadata": {},
   "outputs": [],
   "source": []
  },
  {
   "cell_type": "code",
   "execution_count": null,
   "id": "3d756267",
   "metadata": {},
   "outputs": [],
   "source": []
  },
  {
   "cell_type": "code",
   "execution_count": null,
   "id": "a57002b7",
   "metadata": {},
   "outputs": [],
   "source": []
  },
  {
   "cell_type": "code",
   "execution_count": null,
   "id": "a634c165",
   "metadata": {},
   "outputs": [],
   "source": []
  },
  {
   "cell_type": "code",
   "execution_count": null,
   "id": "3db39bcb",
   "metadata": {},
   "outputs": [],
   "source": []
  },
  {
   "cell_type": "markdown",
   "id": "401522b8",
   "metadata": {},
   "source": [
    "## "
   ]
  }
 ],
 "metadata": {
  "kernelspec": {
   "display_name": "Python 3",
   "language": "python",
   "name": "python3"
  },
  "language_info": {
   "codemirror_mode": {
    "name": "ipython",
    "version": 3
   },
   "file_extension": ".py",
   "mimetype": "text/x-python",
   "name": "python",
   "nbconvert_exporter": "python",
   "pygments_lexer": "ipython3",
   "version": "3.8.10"
  }
 },
 "nbformat": 4,
 "nbformat_minor": 5
}
