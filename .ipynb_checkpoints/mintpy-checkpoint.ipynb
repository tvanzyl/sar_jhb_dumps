{
 "cells": [
  {
   "cell_type": "code",
   "execution_count": 44,
   "metadata": {},
   "outputs": [
    {
     "name": "stdout",
     "output_type": "stream",
     "text": [
      "mkdir: cannot create directory ‘/data1/data/sar_jhb_dumps/robinson_deep/interferograms’: File exists\r\n"
     ]
    }
   ],
   "source": [
    "tc_dir = \"/data1/data/sar_jhb_dumps/tc\"\n",
    "mintpy_dir = \"/data1/data/sar_jhb_dumps/robinson_deep/interferograms\"\n",
    "!mkdir $mintpy_dir"
   ]
  },
  {
   "cell_type": "code",
   "execution_count": 45,
   "metadata": {},
   "outputs": [
    {
     "name": "stdout",
     "output_type": "stream",
     "text": [
      "/data1/data/sar_jhb_dumps/tc/20171102_20180101.dim /data1/data/sar_jhb_dumps/tc/20171114_20180101.dim\n"
     ]
    }
   ],
   "source": [
    "a = !ls $tc_dir/*.dim\n",
    "print(a[0], a[1])"
   ]
  },
  {
   "cell_type": "code",
   "execution_count": 46,
   "metadata": {},
   "outputs": [
    {
     "data": {
      "text/plain": [
       "['/data1/data/sar_jhb_dumps/tc/20171102_20180101.dim',\n",
       " '/data1/data/sar_jhb_dumps/tc/20171114_20180101.dim',\n",
       " '/data1/data/sar_jhb_dumps/tc/20171114_20180113.dim',\n",
       " '/data1/data/sar_jhb_dumps/tc/20171126_20180101.dim',\n",
       " '/data1/data/sar_jhb_dumps/tc/20171126_20180113.dim',\n",
       " '/data1/data/sar_jhb_dumps/tc/20171126_20180125.dim',\n",
       " '/data1/data/sar_jhb_dumps/tc/20171208_20180101.dim',\n",
       " '/data1/data/sar_jhb_dumps/tc/20171208_20180113.dim',\n",
       " '/data1/data/sar_jhb_dumps/tc/20171208_20180125.dim',\n",
       " '/data1/data/sar_jhb_dumps/tc/20171208_20180206.dim',\n",
       " '/data1/data/sar_jhb_dumps/tc/20171220_20180101.dim',\n",
       " '/data1/data/sar_jhb_dumps/tc/20171220_20180113.dim',\n",
       " '/data1/data/sar_jhb_dumps/tc/20171220_20180125.dim',\n",
       " '/data1/data/sar_jhb_dumps/tc/20171220_20180206.dim',\n",
       " '/data1/data/sar_jhb_dumps/tc/20171220_20180218.dim',\n",
       " '/data1/data/sar_jhb_dumps/tc/20180101_20180113.dim',\n",
       " '/data1/data/sar_jhb_dumps/tc/20180101_20180125.dim',\n",
       " '/data1/data/sar_jhb_dumps/tc/20180101_20180206.dim',\n",
       " '/data1/data/sar_jhb_dumps/tc/20180101_20180218.dim',\n",
       " '/data1/data/sar_jhb_dumps/tc/20180101_20180302.dim',\n",
       " '/data1/data/sar_jhb_dumps/tc/20180113_20180125.dim',\n",
       " '/data1/data/sar_jhb_dumps/tc/20180113_20180206.dim',\n",
       " '/data1/data/sar_jhb_dumps/tc/20180113_20180218.dim',\n",
       " '/data1/data/sar_jhb_dumps/tc/20180113_20180302.dim',\n",
       " '/data1/data/sar_jhb_dumps/tc/20180113_20180314.dim',\n",
       " '/data1/data/sar_jhb_dumps/tc/20180125_20180206.dim',\n",
       " '/data1/data/sar_jhb_dumps/tc/20180125_20180218.dim',\n",
       " '/data1/data/sar_jhb_dumps/tc/20180125_20180302.dim',\n",
       " '/data1/data/sar_jhb_dumps/tc/20180125_20180314.dim',\n",
       " '/data1/data/sar_jhb_dumps/tc/20180206_20180218.dim',\n",
       " '/data1/data/sar_jhb_dumps/tc/20180206_20180302.dim',\n",
       " '/data1/data/sar_jhb_dumps/tc/20180218_20180302.dim']"
      ]
     },
     "execution_count": 46,
     "metadata": {},
     "output_type": "execute_result"
    }
   ],
   "source": [
    "a"
   ]
  },
  {
   "cell_type": "code",
   "execution_count": 48,
   "metadata": {
    "scrolled": true
   },
   "outputs": [
    {
     "name": "stdout",
     "output_type": "stream",
     "text": [
      "/data1/data/sar_jhb_dumps/tc/20171102_20180101.dim\n",
      "coh_VV_02Nov2017_01Jan2018\n",
      "mkdir: cannot create directory ‘/data1/data/sar_jhb_dumps/robinson_deep/interferograms/20171102_20180101’: File exists\n",
      "/data1/data/sar_jhb_dumps/robinson_deep/interferograms/20171102_20180101/20171102_20180101_coh_tc.dim\n",
      "Unw_Phase_ifg_02Nov2017_01Jan2018_VV\n",
      "/data1/data/sar_jhb_dumps/tc/20171114_20180101.dim\n",
      "coh_VV_14Nov2017_01Jan2018\n",
      "mkdir: cannot create directory ‘/data1/data/sar_jhb_dumps/robinson_deep/interferograms/20171114_20180101’: File exists\n",
      "/data1/data/sar_jhb_dumps/robinson_deep/interferograms/20171114_20180101/20171114_20180101_coh_tc.dim\n",
      "Unw_Phase_ifg_14Nov2017_01Jan2018_VV\n",
      "/data1/data/sar_jhb_dumps/tc/20171114_20180113.dim\n",
      "coh_VV_14Nov2017_13Jan2018\n",
      "mkdir: cannot create directory ‘/data1/data/sar_jhb_dumps/robinson_deep/interferograms/20171114_20180113’: File exists\n",
      "/data1/data/sar_jhb_dumps/robinson_deep/interferograms/20171114_20180113/20171114_20180113_coh_tc.dim\n",
      "Unw_Phase_ifg_14Nov2017_13Jan2018_VV\n",
      "/data1/data/sar_jhb_dumps/tc/20171126_20180101.dim\n",
      "coh_VV_26Nov2017_01Jan2018\n",
      "mkdir: cannot create directory ‘/data1/data/sar_jhb_dumps/robinson_deep/interferograms/20171126_20180101’: File exists\n",
      "/data1/data/sar_jhb_dumps/robinson_deep/interferograms/20171126_20180101/20171126_20180101_coh_tc.dim\n",
      "Unw_Phase_ifg_26Nov2017_01Jan2018_VV\n",
      "/data1/data/sar_jhb_dumps/tc/20171126_20180113.dim\n",
      "coh_VV_26Nov2017_13Jan2018\n",
      "mkdir: cannot create directory ‘/data1/data/sar_jhb_dumps/robinson_deep/interferograms/20171126_20180113’: File exists\n",
      "/data1/data/sar_jhb_dumps/robinson_deep/interferograms/20171126_20180113/20171126_20180113_coh_tc.dim\n",
      "Unw_Phase_ifg_26Nov2017_13Jan2018_VV\n",
      "/data1/data/sar_jhb_dumps/tc/20171126_20180125.dim\n",
      "coh_VV_26Nov2017_25Jan2018\n",
      "mkdir: cannot create directory ‘/data1/data/sar_jhb_dumps/robinson_deep/interferograms/20171126_20180125’: File exists\n",
      "/data1/data/sar_jhb_dumps/robinson_deep/interferograms/20171126_20180125/20171126_20180125_coh_tc.dim\n",
      "Unw_Phase_ifg_26Nov2017_25Jan2018_VV\n",
      "/data1/data/sar_jhb_dumps/tc/20171208_20180101.dim\n",
      "coh_VV_08Dec2017_01Jan2018\n",
      "mkdir: cannot create directory ‘/data1/data/sar_jhb_dumps/robinson_deep/interferograms/20171208_20180101’: File exists\n",
      "/data1/data/sar_jhb_dumps/robinson_deep/interferograms/20171208_20180101/20171208_20180101_coh_tc.dim\n",
      "Unw_Phase_ifg_08Dec2017_01Jan2018_VV\n",
      "/data1/data/sar_jhb_dumps/tc/20171208_20180113.dim\n",
      "coh_VV_08Dec2017_13Jan2018\n",
      "mkdir: cannot create directory ‘/data1/data/sar_jhb_dumps/robinson_deep/interferograms/20171208_20180113’: File exists\n",
      "/data1/data/sar_jhb_dumps/robinson_deep/interferograms/20171208_20180113/20171208_20180113_coh_tc.dim\n",
      "Unw_Phase_ifg_08Dec2017_13Jan2018_VV\n",
      "/data1/data/sar_jhb_dumps/tc/20171208_20180125.dim\n",
      "coh_VV_08Dec2017_25Jan2018\n",
      "mkdir: cannot create directory ‘/data1/data/sar_jhb_dumps/robinson_deep/interferograms/20171208_20180125’: File exists\n",
      "/data1/data/sar_jhb_dumps/robinson_deep/interferograms/20171208_20180125/20171208_20180125_coh_tc.dim\n",
      "Unw_Phase_ifg_08Dec2017_25Jan2018_VV\n",
      "/data1/data/sar_jhb_dumps/tc/20171208_20180206.dim\n",
      "coh_VV_08Dec2017_06Feb2018\n",
      "mkdir: cannot create directory ‘/data1/data/sar_jhb_dumps/robinson_deep/interferograms/20171208_20180206’: File exists\n",
      "/data1/data/sar_jhb_dumps/robinson_deep/interferograms/20171208_20180206/20171208_20180206_coh_tc.dim\n",
      "Unw_Phase_ifg_08Dec2017_06Feb2018_VV\n",
      "/data1/data/sar_jhb_dumps/tc/20171220_20180101.dim\n",
      "coh_VV_20Dec2017_01Jan2018\n",
      "mkdir: cannot create directory ‘/data1/data/sar_jhb_dumps/robinson_deep/interferograms/20171220_20180101’: File exists\n",
      "/data1/data/sar_jhb_dumps/robinson_deep/interferograms/20171220_20180101/20171220_20180101_coh_tc.dim\n",
      "Unw_Phase_ifg_20Dec2017_01Jan2018_VV\n",
      "/data1/data/sar_jhb_dumps/tc/20171220_20180113.dim\n",
      "coh_VV_20Dec2017_13Jan2018\n",
      "mkdir: cannot create directory ‘/data1/data/sar_jhb_dumps/robinson_deep/interferograms/20171220_20180113’: File exists\n",
      "/data1/data/sar_jhb_dumps/robinson_deep/interferograms/20171220_20180113/20171220_20180113_coh_tc.dim\n",
      "Unw_Phase_ifg_20Dec2017_13Jan2018_VV\n",
      "/data1/data/sar_jhb_dumps/tc/20171220_20180125.dim\n",
      "coh_VV_20Dec2017_25Jan2018\n",
      "mkdir: cannot create directory ‘/data1/data/sar_jhb_dumps/robinson_deep/interferograms/20171220_20180125’: File exists\n",
      "/data1/data/sar_jhb_dumps/robinson_deep/interferograms/20171220_20180125/20171220_20180125_coh_tc.dim\n",
      "Unw_Phase_ifg_20Dec2017_25Jan2018_VV\n",
      "/data1/data/sar_jhb_dumps/tc/20171220_20180206.dim\n",
      "coh_VV_20Dec2017_06Feb2018\n",
      "mkdir: cannot create directory ‘/data1/data/sar_jhb_dumps/robinson_deep/interferograms/20171220_20180206’: File exists\n",
      "/data1/data/sar_jhb_dumps/robinson_deep/interferograms/20171220_20180206/20171220_20180206_coh_tc.dim\n",
      "Unw_Phase_ifg_20Dec2017_06Feb2018_VV\n",
      "/data1/data/sar_jhb_dumps/tc/20171220_20180218.dim\n",
      "coh_VV_20Dec2017_18Feb2018\n",
      "mkdir: cannot create directory ‘/data1/data/sar_jhb_dumps/robinson_deep/interferograms/20171220_20180218’: File exists\n",
      "/data1/data/sar_jhb_dumps/robinson_deep/interferograms/20171220_20180218/20171220_20180218_coh_tc.dim\n",
      "Unw_Phase_ifg_20Dec2017_18Feb2018_VV\n",
      "/data1/data/sar_jhb_dumps/tc/20180101_20180113.dim\n",
      "coh_VV_01Jan2018_13Jan2018\n",
      "mkdir: cannot create directory ‘/data1/data/sar_jhb_dumps/robinson_deep/interferograms/20180101_20180113’: File exists\n",
      "/data1/data/sar_jhb_dumps/robinson_deep/interferograms/20180101_20180113/20180101_20180113_coh_tc.dim\n",
      "Unw_Phase_ifg_01Jan2018_13Jan2018_VV\n",
      "/data1/data/sar_jhb_dumps/tc/20180101_20180125.dim\n",
      "coh_VV_01Jan2018_25Jan2018\n",
      "mkdir: cannot create directory ‘/data1/data/sar_jhb_dumps/robinson_deep/interferograms/20180101_20180125’: File exists\n",
      "/data1/data/sar_jhb_dumps/robinson_deep/interferograms/20180101_20180125/20180101_20180125_coh_tc.dim\n",
      "Unw_Phase_ifg_01Jan2018_25Jan2018_VV\n",
      "/data1/data/sar_jhb_dumps/tc/20180101_20180206.dim\n",
      "coh_VV_01Jan2018_06Feb2018\n",
      "mkdir: cannot create directory ‘/data1/data/sar_jhb_dumps/robinson_deep/interferograms/20180101_20180206’: File exists\n",
      "/data1/data/sar_jhb_dumps/robinson_deep/interferograms/20180101_20180206/20180101_20180206_coh_tc.dim\n",
      "Unw_Phase_ifg_01Jan2018_06Feb2018_VV\n",
      "/data1/data/sar_jhb_dumps/tc/20180101_20180218.dim\n",
      "coh_VV_01Jan2018_18Feb2018\n",
      "mkdir: cannot create directory ‘/data1/data/sar_jhb_dumps/robinson_deep/interferograms/20180101_20180218’: File exists\n",
      "/data1/data/sar_jhb_dumps/robinson_deep/interferograms/20180101_20180218/20180101_20180218_coh_tc.dim\n",
      "Unw_Phase_ifg_01Jan2018_18Feb2018_VV\n",
      "/data1/data/sar_jhb_dumps/tc/20180101_20180302.dim\n",
      "coh_VV_01Jan2018_02Mar2018\n",
      "mkdir: cannot create directory ‘/data1/data/sar_jhb_dumps/robinson_deep/interferograms/20180101_20180302’: File exists\n",
      "/data1/data/sar_jhb_dumps/robinson_deep/interferograms/20180101_20180302/20180101_20180302_coh_tc.dim\n",
      "Unw_Phase_ifg_01Jan2018_02Mar2018_VV\n",
      "/data1/data/sar_jhb_dumps/tc/20180113_20180125.dim\n",
      "coh_VV_13Jan2018_25Jan2018\n",
      "mkdir: cannot create directory ‘/data1/data/sar_jhb_dumps/robinson_deep/interferograms/20180113_20180125’: File exists\n",
      "/data1/data/sar_jhb_dumps/robinson_deep/interferograms/20180113_20180125/20180113_20180125_coh_tc.dim\n",
      "Unw_Phase_ifg_13Jan2018_25Jan2018_VV\n",
      "/data1/data/sar_jhb_dumps/tc/20180113_20180206.dim\n",
      "coh_VV_13Jan2018_06Feb2018\n",
      "mkdir: cannot create directory ‘/data1/data/sar_jhb_dumps/robinson_deep/interferograms/20180113_20180206’: File exists\n",
      "/data1/data/sar_jhb_dumps/robinson_deep/interferograms/20180113_20180206/20180113_20180206_coh_tc.dim\n",
      "Unw_Phase_ifg_13Jan2018_06Feb2018_VV\n",
      "/data1/data/sar_jhb_dumps/tc/20180113_20180218.dim\n",
      "coh_VV_13Jan2018_18Feb2018\n",
      "mkdir: cannot create directory ‘/data1/data/sar_jhb_dumps/robinson_deep/interferograms/20180113_20180218’: File exists\n",
      "/data1/data/sar_jhb_dumps/robinson_deep/interferograms/20180113_20180218/20180113_20180218_coh_tc.dim\n",
      "Unw_Phase_ifg_13Jan2018_18Feb2018_VV\n",
      "/data1/data/sar_jhb_dumps/tc/20180113_20180302.dim\n",
      "coh_VV_13Jan2018_02Mar2018\n",
      "mkdir: cannot create directory ‘/data1/data/sar_jhb_dumps/robinson_deep/interferograms/20180113_20180302’: File exists\n",
      "/data1/data/sar_jhb_dumps/robinson_deep/interferograms/20180113_20180302/20180113_20180302_coh_tc.dim\n",
      "Unw_Phase_ifg_13Jan2018_02Mar2018_VV\n",
      "/data1/data/sar_jhb_dumps/tc/20180113_20180314.dim\n",
      "coh_VV_13Jan2018_14Mar2018\n",
      "mkdir: cannot create directory ‘/data1/data/sar_jhb_dumps/robinson_deep/interferograms/20180113_20180314’: File exists\n"
     ]
    },
    {
     "name": "stdout",
     "output_type": "stream",
     "text": [
      "/data1/data/sar_jhb_dumps/robinson_deep/interferograms/20180113_20180314/20180113_20180314_coh_tc.dim\n",
      "Unw_Phase_ifg_13Jan2018_14Mar2018_VV\n",
      "/data1/data/sar_jhb_dumps/tc/20180125_20180206.dim\n",
      "coh_VV_25Jan2018_06Feb2018\n",
      "mkdir: cannot create directory ‘/data1/data/sar_jhb_dumps/robinson_deep/interferograms/20180125_20180206’: File exists\n",
      "/data1/data/sar_jhb_dumps/robinson_deep/interferograms/20180125_20180206/20180125_20180206_coh_tc.dim\n",
      "Unw_Phase_ifg_25Jan2018_06Feb2018_VV\n",
      "/data1/data/sar_jhb_dumps/tc/20180125_20180218.dim\n",
      "coh_VV_25Jan2018_18Feb2018\n",
      "mkdir: cannot create directory ‘/data1/data/sar_jhb_dumps/robinson_deep/interferograms/20180125_20180218’: File exists\n",
      "/data1/data/sar_jhb_dumps/robinson_deep/interferograms/20180125_20180218/20180125_20180218_coh_tc.dim\n",
      "Unw_Phase_ifg_25Jan2018_18Feb2018_VV\n",
      "/data1/data/sar_jhb_dumps/tc/20180125_20180302.dim\n",
      "coh_VV_25Jan2018_02Mar2018\n",
      "mkdir: cannot create directory ‘/data1/data/sar_jhb_dumps/robinson_deep/interferograms/20180125_20180302’: File exists\n",
      "/data1/data/sar_jhb_dumps/robinson_deep/interferograms/20180125_20180302/20180125_20180302_coh_tc.dim\n",
      "Unw_Phase_ifg_25Jan2018_02Mar2018_VV\n",
      "/data1/data/sar_jhb_dumps/tc/20180125_20180314.dim\n",
      "coh_VV_25Jan2018_14Mar2018\n",
      "mkdir: cannot create directory ‘/data1/data/sar_jhb_dumps/robinson_deep/interferograms/20180125_20180314’: File exists\n",
      "/data1/data/sar_jhb_dumps/robinson_deep/interferograms/20180125_20180314/20180125_20180314_coh_tc.dim\n",
      "Unw_Phase_ifg_25Jan2018_14Mar2018_VV\n",
      "/data1/data/sar_jhb_dumps/tc/20180206_20180218.dim\n",
      "coh_VV_06Feb2018_18Feb2018\n",
      "mkdir: cannot create directory ‘/data1/data/sar_jhb_dumps/robinson_deep/interferograms/20180206_20180218’: File exists\n",
      "/data1/data/sar_jhb_dumps/robinson_deep/interferograms/20180206_20180218/20180206_20180218_coh_tc.dim\n",
      "Unw_Phase_ifg_06Feb2018_18Feb2018_VV\n",
      "/data1/data/sar_jhb_dumps/tc/20180206_20180302.dim\n",
      "coh_VV_06Feb2018_02Mar2018\n",
      "mkdir: cannot create directory ‘/data1/data/sar_jhb_dumps/robinson_deep/interferograms/20180206_20180302’: File exists\n",
      "/data1/data/sar_jhb_dumps/robinson_deep/interferograms/20180206_20180302/20180206_20180302_coh_tc.dim\n",
      "Unw_Phase_ifg_06Feb2018_02Mar2018_VV\n",
      "/data1/data/sar_jhb_dumps/tc/20180218_20180302.dim\n",
      "coh_VV_18Feb2018_02Mar2018\n",
      "mkdir: cannot create directory ‘/data1/data/sar_jhb_dumps/robinson_deep/interferograms/20180218_20180302’: File exists\n",
      "/data1/data/sar_jhb_dumps/robinson_deep/interferograms/20180218_20180302/20180218_20180302_coh_tc.dim\n",
      "Unw_Phase_ifg_18Feb2018_02Mar2018_VV\n"
     ]
    }
   ],
   "source": [
    "for i in range(len(a)):    \n",
    "    source = a[i]\n",
    "    print(source)\n",
    "    source_name = a[i].split(\"/\")[-1].split(\".\")[0]\n",
    "    coh_path = !ls {tc_dir}/{source_name}.data/coh*.hdr\n",
    "    coh_band = coh_path[0].split(\"/\")[-1].split(\".\")[0]\n",
    "    print(coh_band)\n",
    "    !mkdir $mintpy_dir/$source_name\n",
    "    target_coh = \"{}/{}/{}_coh_tc.dim\".format(mintpy_dir,source_name,source_name)\n",
    "    print(target_coh)\n",
    "    unw_path = !ls {tc_dir}/{source_name}.data/Unw*.hdr\n",
    "    unw_band = unw_path[0].split(\"/\")[-1].split(\".\")[0]    \n",
    "    print(unw_band)    \n",
    "    target_unw = \"{}/{}/{}_unw_tc.dim\".format(mintpy_dir,source_name,source_name)    \n",
    "    c = !ls $mintpy_dir | grep $source_name\n",
    "    if len(c) == 0:\n",
    "        !gpt graph/mintpy_subset.xml -Psource=$source -Pcoh_band=$coh_band -Punw_band=$unw_band -Ptarget_unw=$target_unw -Ptarget_coh=$target_coh"
   ]
  },
  {
   "cell_type": "code",
   "execution_count": null,
   "metadata": {},
   "outputs": [],
   "source": [
    "# !gpt graph/mintpy_subset.xml -Psource=$source -Pcoh_band=$coh_band -Punw_band=$unw_band -Ptarget_unw=$target_unw -Ptarget_coh=$target_coh"
   ]
  }
 ],
 "metadata": {
  "kernelspec": {
   "display_name": "Python 3",
   "language": "python",
   "name": "python3"
  },
  "language_info": {
   "codemirror_mode": {
    "name": "ipython",
    "version": 3
   },
   "file_extension": ".py",
   "mimetype": "text/x-python",
   "name": "python",
   "nbconvert_exporter": "python",
   "pygments_lexer": "ipython3",
   "version": "3.8.6"
  }
 },
 "nbformat": 4,
 "nbformat_minor": 4
}
