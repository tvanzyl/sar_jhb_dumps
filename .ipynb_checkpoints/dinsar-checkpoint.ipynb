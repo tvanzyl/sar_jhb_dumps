{
 "cells": [
  {
   "cell_type": "code",
   "execution_count": 1,
   "metadata": {},
   "outputs": [],
   "source": [
    "data_dir = \"/data1/data/sar_jhb_dumps/\"\n",
    "dinsar_dir = \"/data1/data/sar_jhb_dumps/dinsar/\"\n",
    "overlap = 5"
   ]
  },
  {
   "cell_type": "code",
   "execution_count": 2,
   "metadata": {},
   "outputs": [
    {
     "name": "stdout",
     "output_type": "stream",
     "text": [
      "/data1/data/sar_jhb_dumps/S1A_IW_SLC__1SDV_20171102T164632_20171102T164659_019088_0204A3_D54A.zip /data1/data/sar_jhb_dumps/S1A_IW_SLC__1SDV_20171114T164631_20171114T164658_019263_020A18_254C.zip\n"
     ]
    }
   ],
   "source": [
    "a = !ls $data_dir*.zip\n",
    "a.sort()\n",
    "print(a[0], a[1])"
   ]
  },
  {
   "cell_type": "code",
   "execution_count": null,
   "metadata": {
    "scrolled": true
   },
   "outputs": [
    {
     "name": "stdout",
     "output_type": "stream",
     "text": [
      "20171102 20180101\n",
      "['20171102_20180101.data', '20171102_20180101.dim']\n",
      "20171114 20180101\n",
      "['20171114_20180101.data', '20171114_20180101.dim']\n",
      "20171126 20180101\n",
      "['20171126_20180101.data', '20171126_20180101.dim']\n",
      "20171208 20180101\n",
      "['20171208_20180101.data', '20171208_20180101.dim']\n",
      "20171220 20180101\n",
      "['20171220_20180101.data', '20171220_20180101.dim']\n",
      "20171114 20180113\n",
      "['20171114_20180113.data', '20171114_20180113.dim']\n",
      "20171126 20180113\n",
      "['20171126_20180113.data', '20171126_20180113.dim']\n",
      "20171208 20180113\n",
      "['20171208_20180113.data', '20171208_20180113.dim']\n",
      "20171220 20180113\n",
      "['20171220_20180113.data', '20171220_20180113.dim']\n",
      "20180101 20180113\n",
      "['20180101_20180113.data', '20180101_20180113.dim']\n",
      "20171126 20180125\n",
      "['20171126_20180125.data', '20171126_20180125.dim']\n",
      "20171208 20180125\n",
      "['20171208_20180125.data', '20171208_20180125.dim']\n",
      "20171220 20180125\n",
      "['20171220_20180125.data', '20171220_20180125.dim']\n",
      "20180101 20180125\n",
      "['20180101_20180125.data', '20180101_20180125.dim']\n",
      "20180113 20180125\n",
      "['20180113_20180125.data', '20180113_20180125.dim']\n",
      "20171208 20180206\n",
      "['20171208_20180206.data', '20171208_20180206.dim']\n",
      "20171220 20180206\n",
      "['20171220_20180206.data', '20171220_20180206.dim']\n",
      "20180101 20180206\n",
      "['20180101_20180206.data', '20180101_20180206.dim']\n",
      "20180113 20180206\n",
      "['20180113_20180206.data', '20180113_20180206.dim']\n",
      "20180125 20180206\n",
      "['20180125_20180206.data', '20180125_20180206.dim']\n",
      "20171220 20180218\n",
      "['20171220_20180218.data', '20171220_20180218.dim']\n",
      "20180101 20180218\n",
      "['20180101_20180218.data', '20180101_20180218.dim']\n",
      "20180113 20180218\n",
      "['20180113_20180218.data', '20180113_20180218.dim']\n",
      "20180125 20180218\n",
      "['20180125_20180218.data', '20180125_20180218.dim']\n",
      "20180206 20180218\n",
      "['20180206_20180218.data', '20180206_20180218.dim']\n",
      "20180101 20180302\n",
      "['20180101_20180302.data', '20180101_20180302.dim']\n",
      "20180113 20180302\n",
      "['20180113_20180302.data', '20180113_20180302.dim']\n",
      "20180125 20180302\n",
      "['20180125_20180302.data', '20180125_20180302.dim']\n",
      "20180206 20180302\n",
      "['20180206_20180302.data', '20180206_20180302.dim']\n",
      "20180218 20180302\n",
      "['20180218_20180302.data', '20180218_20180302.dim']\n",
      "20180113 20180314\n",
      "['20180113_20180314.data', '20180113_20180314.dim']\n",
      "20180125 20180314\n",
      "['20180125_20180314.data', '20180125_20180314.dim']\n",
      "20180206 20180314\n",
      "[]\n",
      "INFO: org.esa.snap.core.gpf.operators.tooladapter.ToolAdapterIO: Initializing external tool adapters\n",
      "INFO: org.esa.s2tbx.dataio.gdal.GDALVersion: GDAL not found on system. Internal GDAL 3.0.0 from distribution will be used. (f1)\n",
      "INFO: org.esa.s2tbx.dataio.gdal.GDALVersion: Internal GDAL 3.0.0 set to be used by SNAP.\n",
      "INFO: org.esa.snap.core.util.EngineVersionCheckActivator: Please check regularly for new updates for the best SNAP experience.\n",
      "INFO: org.esa.s2tbx.dataio.gdal.GDALVersion: Internal GDAL 3.0.0 set to be used by SNAP.\n",
      "Executing processing graph\n",
      "INFO: org.hsqldb.persist.Logger: dataFileCache open start\n",
      "....12%....24%...34%....45%...55%...65%...75%...85%"
     ]
    }
   ],
   "source": [
    "for i in range(overlap,len(a)):\n",
    "    for j in range(overlap, 0, -1):\n",
    "        print(a[i-j][43:51],a[i][43:51])\n",
    "        master = a[i-j]\n",
    "        slave = a[i]\n",
    "        target_name = \"{}_{}\".format(a[i-j][43:51],a[i][43:51])\n",
    "        target = \"{}{}_{}.dim\".format(dinsar_dir,a[i-j][43:51],a[i][43:51])\n",
    "        c = !ls $dinsar_dir | grep $target_name\n",
    "        print(c)\n",
    "        if len(c) == 0:\n",
    "            !gpt graph/TOPSAR\\ Coreg\\ Interferogram\\ VV\\ IW\\ 2_3\\ B\\ 8_9.xml -Pmaster=$master -Pslave=$slave -Ptarget=$target -c 192G -q 36"
   ]
  },
  {
   "cell_type": "code",
   "execution_count": null,
   "metadata": {},
   "outputs": [],
   "source": []
  }
 ],
 "metadata": {
  "kernelspec": {
   "display_name": "Python 3",
   "language": "python",
   "name": "python3"
  },
  "language_info": {
   "codemirror_mode": {
    "name": "ipython",
    "version": 3
   },
   "file_extension": ".py",
   "mimetype": "text/x-python",
   "name": "python",
   "nbconvert_exporter": "python",
   "pygments_lexer": "ipython3",
   "version": "3.8.6"
  }
 },
 "nbformat": 4,
 "nbformat_minor": 4
}
